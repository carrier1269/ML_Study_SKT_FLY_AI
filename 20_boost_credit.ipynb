{
 "cells": [
  {
   "cell_type": "markdown",
   "id": "261e5616-5041-497f-a3ad-c3254914e2b4",
   "metadata": {},
   "source": [
    "# Cridit card fraud detection\n",
    "---"
   ]
  },
  {
   "cell_type": "code",
   "execution_count": 248,
   "id": "c2d81d86-282e-4e20-85dd-7ca1eef313db",
   "metadata": {},
   "outputs": [],
   "source": [
    "import numpy as np\n",
    "import pandas as pd\n",
    "import matplotlib.pyplot as plt\n",
    "import seaborn as sns\n",
    "import myutils as my"
   ]
  },
  {
   "cell_type": "code",
   "execution_count": 249,
   "id": "8fce2696-881a-4a17-8885-0c928754d874",
   "metadata": {
    "tags": []
   },
   "outputs": [
    {
     "data": {
      "text/html": [
       "<div>\n",
       "<style scoped>\n",
       "    .dataframe tbody tr th:only-of-type {\n",
       "        vertical-align: middle;\n",
       "    }\n",
       "\n",
       "    .dataframe tbody tr th {\n",
       "        vertical-align: top;\n",
       "    }\n",
       "\n",
       "    .dataframe thead th {\n",
       "        text-align: right;\n",
       "    }\n",
       "</style>\n",
       "<table border=\"1\" class=\"dataframe\">\n",
       "  <thead>\n",
       "    <tr style=\"text-align: right;\">\n",
       "      <th></th>\n",
       "      <th>Time</th>\n",
       "      <th>V1</th>\n",
       "      <th>V2</th>\n",
       "      <th>V3</th>\n",
       "      <th>V4</th>\n",
       "      <th>V5</th>\n",
       "      <th>V6</th>\n",
       "      <th>V7</th>\n",
       "      <th>V8</th>\n",
       "      <th>V9</th>\n",
       "      <th>...</th>\n",
       "      <th>V21</th>\n",
       "      <th>V22</th>\n",
       "      <th>V23</th>\n",
       "      <th>V24</th>\n",
       "      <th>V25</th>\n",
       "      <th>V26</th>\n",
       "      <th>V27</th>\n",
       "      <th>V28</th>\n",
       "      <th>Amount</th>\n",
       "      <th>Class</th>\n",
       "    </tr>\n",
       "  </thead>\n",
       "  <tbody>\n",
       "    <tr>\n",
       "      <th>0</th>\n",
       "      <td>0.0</td>\n",
       "      <td>-1.359807</td>\n",
       "      <td>-0.072781</td>\n",
       "      <td>2.536347</td>\n",
       "      <td>1.378155</td>\n",
       "      <td>-0.338321</td>\n",
       "      <td>0.462388</td>\n",
       "      <td>0.239599</td>\n",
       "      <td>0.098698</td>\n",
       "      <td>0.363787</td>\n",
       "      <td>...</td>\n",
       "      <td>-0.018307</td>\n",
       "      <td>0.277838</td>\n",
       "      <td>-0.110474</td>\n",
       "      <td>0.066928</td>\n",
       "      <td>0.128539</td>\n",
       "      <td>-0.189115</td>\n",
       "      <td>0.133558</td>\n",
       "      <td>-0.021053</td>\n",
       "      <td>149.62</td>\n",
       "      <td>0</td>\n",
       "    </tr>\n",
       "    <tr>\n",
       "      <th>1</th>\n",
       "      <td>0.0</td>\n",
       "      <td>1.191857</td>\n",
       "      <td>0.266151</td>\n",
       "      <td>0.166480</td>\n",
       "      <td>0.448154</td>\n",
       "      <td>0.060018</td>\n",
       "      <td>-0.082361</td>\n",
       "      <td>-0.078803</td>\n",
       "      <td>0.085102</td>\n",
       "      <td>-0.255425</td>\n",
       "      <td>...</td>\n",
       "      <td>-0.225775</td>\n",
       "      <td>-0.638672</td>\n",
       "      <td>0.101288</td>\n",
       "      <td>-0.339846</td>\n",
       "      <td>0.167170</td>\n",
       "      <td>0.125895</td>\n",
       "      <td>-0.008983</td>\n",
       "      <td>0.014724</td>\n",
       "      <td>2.69</td>\n",
       "      <td>0</td>\n",
       "    </tr>\n",
       "    <tr>\n",
       "      <th>2</th>\n",
       "      <td>1.0</td>\n",
       "      <td>-1.358354</td>\n",
       "      <td>-1.340163</td>\n",
       "      <td>1.773209</td>\n",
       "      <td>0.379780</td>\n",
       "      <td>-0.503198</td>\n",
       "      <td>1.800499</td>\n",
       "      <td>0.791461</td>\n",
       "      <td>0.247676</td>\n",
       "      <td>-1.514654</td>\n",
       "      <td>...</td>\n",
       "      <td>0.247998</td>\n",
       "      <td>0.771679</td>\n",
       "      <td>0.909412</td>\n",
       "      <td>-0.689281</td>\n",
       "      <td>-0.327642</td>\n",
       "      <td>-0.139097</td>\n",
       "      <td>-0.055353</td>\n",
       "      <td>-0.059752</td>\n",
       "      <td>378.66</td>\n",
       "      <td>0</td>\n",
       "    </tr>\n",
       "    <tr>\n",
       "      <th>3</th>\n",
       "      <td>1.0</td>\n",
       "      <td>-0.966272</td>\n",
       "      <td>-0.185226</td>\n",
       "      <td>1.792993</td>\n",
       "      <td>-0.863291</td>\n",
       "      <td>-0.010309</td>\n",
       "      <td>1.247203</td>\n",
       "      <td>0.237609</td>\n",
       "      <td>0.377436</td>\n",
       "      <td>-1.387024</td>\n",
       "      <td>...</td>\n",
       "      <td>-0.108300</td>\n",
       "      <td>0.005274</td>\n",
       "      <td>-0.190321</td>\n",
       "      <td>-1.175575</td>\n",
       "      <td>0.647376</td>\n",
       "      <td>-0.221929</td>\n",
       "      <td>0.062723</td>\n",
       "      <td>0.061458</td>\n",
       "      <td>123.50</td>\n",
       "      <td>0</td>\n",
       "    </tr>\n",
       "    <tr>\n",
       "      <th>4</th>\n",
       "      <td>2.0</td>\n",
       "      <td>-1.158233</td>\n",
       "      <td>0.877737</td>\n",
       "      <td>1.548718</td>\n",
       "      <td>0.403034</td>\n",
       "      <td>-0.407193</td>\n",
       "      <td>0.095921</td>\n",
       "      <td>0.592941</td>\n",
       "      <td>-0.270533</td>\n",
       "      <td>0.817739</td>\n",
       "      <td>...</td>\n",
       "      <td>-0.009431</td>\n",
       "      <td>0.798278</td>\n",
       "      <td>-0.137458</td>\n",
       "      <td>0.141267</td>\n",
       "      <td>-0.206010</td>\n",
       "      <td>0.502292</td>\n",
       "      <td>0.219422</td>\n",
       "      <td>0.215153</td>\n",
       "      <td>69.99</td>\n",
       "      <td>0</td>\n",
       "    </tr>\n",
       "  </tbody>\n",
       "</table>\n",
       "<p>5 rows × 31 columns</p>\n",
       "</div>"
      ],
      "text/plain": [
       "   Time        V1        V2        V3        V4        V5        V6        V7  \\\n",
       "0   0.0 -1.359807 -0.072781  2.536347  1.378155 -0.338321  0.462388  0.239599   \n",
       "1   0.0  1.191857  0.266151  0.166480  0.448154  0.060018 -0.082361 -0.078803   \n",
       "2   1.0 -1.358354 -1.340163  1.773209  0.379780 -0.503198  1.800499  0.791461   \n",
       "3   1.0 -0.966272 -0.185226  1.792993 -0.863291 -0.010309  1.247203  0.237609   \n",
       "4   2.0 -1.158233  0.877737  1.548718  0.403034 -0.407193  0.095921  0.592941   \n",
       "\n",
       "         V8        V9  ...       V21       V22       V23       V24       V25  \\\n",
       "0  0.098698  0.363787  ... -0.018307  0.277838 -0.110474  0.066928  0.128539   \n",
       "1  0.085102 -0.255425  ... -0.225775 -0.638672  0.101288 -0.339846  0.167170   \n",
       "2  0.247676 -1.514654  ...  0.247998  0.771679  0.909412 -0.689281 -0.327642   \n",
       "3  0.377436 -1.387024  ... -0.108300  0.005274 -0.190321 -1.175575  0.647376   \n",
       "4 -0.270533  0.817739  ... -0.009431  0.798278 -0.137458  0.141267 -0.206010   \n",
       "\n",
       "        V26       V27       V28  Amount  Class  \n",
       "0 -0.189115  0.133558 -0.021053  149.62      0  \n",
       "1  0.125895 -0.008983  0.014724    2.69      0  \n",
       "2 -0.139097 -0.055353 -0.059752  378.66      0  \n",
       "3 -0.221929  0.062723  0.061458  123.50      0  \n",
       "4  0.502292  0.219422  0.215153   69.99      0  \n",
       "\n",
       "[5 rows x 31 columns]"
      ]
     },
     "execution_count": 249,
     "metadata": {},
     "output_type": "execute_result"
    }
   ],
   "source": [
    "df = pd.read_csv('creditcard.csv')\n",
    "df.head()"
   ]
  },
  {
   "cell_type": "code",
   "execution_count": 250,
   "id": "4a712f48-6241-4eff-bc33-e9474d33080a",
   "metadata": {},
   "outputs": [
    {
     "data": {
      "text/plain": [
       "Index(['Time', 'V1', 'V2', 'V3', 'V4', 'V5', 'V6', 'V7', 'V8', 'V9', 'V10',\n",
       "       'V11', 'V12', 'V13', 'V14', 'V15', 'V16', 'V17', 'V18', 'V19', 'V20',\n",
       "       'V21', 'V22', 'V23', 'V24', 'V25', 'V26', 'V27', 'V28', 'Amount',\n",
       "       'Class'],\n",
       "      dtype='object')"
      ]
     },
     "execution_count": 250,
     "metadata": {},
     "output_type": "execute_result"
    }
   ],
   "source": [
    "df.columns"
   ]
  },
  {
   "cell_type": "code",
   "execution_count": 251,
   "id": "349c3289-4df0-4af1-862c-31b04aeec488",
   "metadata": {},
   "outputs": [],
   "source": [
    "df.columns = [x.lower() for x in df.columns]"
   ]
  },
  {
   "cell_type": "code",
   "execution_count": 252,
   "id": "8dc2ac18-5bda-4770-b29b-91388e3c3c26",
   "metadata": {},
   "outputs": [
    {
     "data": {
      "text/plain": [
       "Index(['time', 'v1', 'v2', 'v3', 'v4', 'v5', 'v6', 'v7', 'v8', 'v9', 'v10',\n",
       "       'v11', 'v12', 'v13', 'v14', 'v15', 'v16', 'v17', 'v18', 'v19', 'v20',\n",
       "       'v21', 'v22', 'v23', 'v24', 'v25', 'v26', 'v27', 'v28', 'amount',\n",
       "       'class'],\n",
       "      dtype='object')"
      ]
     },
     "execution_count": 252,
     "metadata": {},
     "output_type": "execute_result"
    }
   ],
   "source": [
    "df.columns"
   ]
  },
  {
   "cell_type": "code",
   "execution_count": 253,
   "id": "5677f9eb-d44d-474d-9548-6ad9e2e83508",
   "metadata": {},
   "outputs": [
    {
     "data": {
      "text/plain": [
       "1081"
      ]
     },
     "execution_count": 253,
     "metadata": {},
     "output_type": "execute_result"
    }
   ],
   "source": [
    "df.duplicated().sum()"
   ]
  },
  {
   "cell_type": "code",
   "execution_count": 254,
   "id": "f98bf564-abd1-4fe7-87ec-82548c38ef78",
   "metadata": {},
   "outputs": [
    {
     "name": "stdout",
     "output_type": "stream",
     "text": [
      "<class 'pandas.core.frame.DataFrame'>\n",
      "RangeIndex: 284807 entries, 0 to 284806\n",
      "Data columns (total 31 columns):\n",
      " #   Column  Non-Null Count   Dtype  \n",
      "---  ------  --------------   -----  \n",
      " 0   time    284807 non-null  float64\n",
      " 1   v1      284807 non-null  float64\n",
      " 2   v2      284807 non-null  float64\n",
      " 3   v3      284807 non-null  float64\n",
      " 4   v4      284807 non-null  float64\n",
      " 5   v5      284807 non-null  float64\n",
      " 6   v6      284807 non-null  float64\n",
      " 7   v7      284807 non-null  float64\n",
      " 8   v8      284807 non-null  float64\n",
      " 9   v9      284807 non-null  float64\n",
      " 10  v10     284807 non-null  float64\n",
      " 11  v11     284807 non-null  float64\n",
      " 12  v12     284807 non-null  float64\n",
      " 13  v13     284807 non-null  float64\n",
      " 14  v14     284807 non-null  float64\n",
      " 15  v15     284807 non-null  float64\n",
      " 16  v16     284807 non-null  float64\n",
      " 17  v17     284807 non-null  float64\n",
      " 18  v18     284807 non-null  float64\n",
      " 19  v19     284807 non-null  float64\n",
      " 20  v20     284807 non-null  float64\n",
      " 21  v21     284807 non-null  float64\n",
      " 22  v22     284807 non-null  float64\n",
      " 23  v23     284807 non-null  float64\n",
      " 24  v24     284807 non-null  float64\n",
      " 25  v25     284807 non-null  float64\n",
      " 26  v26     284807 non-null  float64\n",
      " 27  v27     284807 non-null  float64\n",
      " 28  v28     284807 non-null  float64\n",
      " 29  amount  284807 non-null  float64\n",
      " 30  class   284807 non-null  int64  \n",
      "dtypes: float64(30), int64(1)\n",
      "memory usage: 67.4 MB\n"
     ]
    }
   ],
   "source": [
    "df.info()"
   ]
  },
  {
   "cell_type": "code",
   "execution_count": 255,
   "id": "71bebd21-de55-43ee-9ca0-a9b7583fbb53",
   "metadata": {},
   "outputs": [
    {
     "data": {
      "text/plain": [
       "0    0.998273\n",
       "1    0.001727\n",
       "Name: class, dtype: float64"
      ]
     },
     "execution_count": 255,
     "metadata": {},
     "output_type": "execute_result"
    }
   ],
   "source": [
    "df['class'].value_counts(normalize=True)"
   ]
  },
  {
   "cell_type": "code",
   "execution_count": 256,
   "id": "a6d9b7bd-a5dd-4254-9996-8365fbe40b9b",
   "metadata": {},
   "outputs": [
    {
     "data": {
      "text/plain": [
       "<AxesSubplot: xlabel='class', ylabel='count'>"
      ]
     },
     "execution_count": 256,
     "metadata": {},
     "output_type": "execute_result"
    },
    {
     "data": {
      "image/png": "[encoded data removed]",
      "text/plain": [
       "<Figure size 640x480 with 1 Axes>"
      ]
     },
     "metadata": {},
     "output_type": "display_data"
    }
   ],
   "source": [
    "sns.countplot(x=df['class'])"
   ]
  },
  {
   "cell_type": "code",
   "execution_count": 257,
   "id": "a43f04f1-33d8-48be-84ef-94cd75c46e46",
   "metadata": {},
   "outputs": [
    {
     "data": {
      "text/plain": [
       "Index(['time', 'v1', 'v2', 'v3', 'v4', 'v5', 'v6', 'v7', 'v8', 'v9', 'v10',\n",
       "       'v11', 'v12', 'v13', 'v14', 'v15', 'v16', 'v17', 'v18', 'v19', 'v20',\n",
       "       'v21', 'v22', 'v23', 'v24', 'v25', 'v26', 'v27', 'v28', 'amount',\n",
       "       'class'],\n",
       "      dtype='object')"
      ]
     },
     "execution_count": 257,
     "metadata": {},
     "output_type": "execute_result"
    }
   ],
   "source": [
    "df.columns"
   ]
  },
  {
   "cell_type": "code",
   "execution_count": 258,
   "id": "291cdf60-5e3a-481f-b97c-2d4306200bd8",
   "metadata": {},
   "outputs": [],
   "source": [
    "x = df.drop(['time','class'], axis=1)\n",
    "y = df['class']"
   ]
  },
  {
   "cell_type": "code",
   "execution_count": 259,
   "id": "b6958ade-479b-40bc-a492-6ab66ccc5c28",
   "metadata": {},
   "outputs": [],
   "source": [
    "from sklearn.model_selection import train_test_split\n",
    "\n",
    "x_train, x_test, y_train, y_test = train_test_split(x, y, test_size = 0.2, stratify = y, random_state = 2022)\n",
    "# y의 데이터 값이 너무 한쪽으로 기울어져있으면 stratify를 사용하여 골고루 분포시킨다."
   ]
  },
  {
   "cell_type": "code",
   "execution_count": 260,
   "id": "36622826-0671-44ac-961d-b4b3828846d5",
   "metadata": {
    "tags": []
   },
   "outputs": [
    {
     "data": {
      "text/plain": [
       "((227845, 29), (56962, 29))"
      ]
     },
     "execution_count": 260,
     "metadata": {},
     "output_type": "execute_result"
    }
   ],
   "source": [
    "x_train.shape, x_test.shape"
   ]
  },
  {
   "cell_type": "code",
   "execution_count": 261,
   "id": "abd34884-bf6c-4e83-9afc-918e43cb3afa",
   "metadata": {},
   "outputs": [
    {
     "data": {
      "text/html": [
       "<div>\n",
       "<style scoped>\n",
       "    .dataframe tbody tr th:only-of-type {\n",
       "        vertical-align: middle;\n",
       "    }\n",
       "\n",
       "    .dataframe tbody tr th {\n",
       "        vertical-align: top;\n",
       "    }\n",
       "\n",
       "    .dataframe thead th {\n",
       "        text-align: right;\n",
       "    }\n",
       "</style>\n",
       "<table border=\"1\" class=\"dataframe\">\n",
       "  <thead>\n",
       "    <tr style=\"text-align: right;\">\n",
       "      <th></th>\n",
       "      <th>v1</th>\n",
       "      <th>v2</th>\n",
       "      <th>v3</th>\n",
       "      <th>v4</th>\n",
       "      <th>v5</th>\n",
       "      <th>v6</th>\n",
       "      <th>v7</th>\n",
       "      <th>v8</th>\n",
       "      <th>v9</th>\n",
       "      <th>v10</th>\n",
       "      <th>...</th>\n",
       "      <th>v20</th>\n",
       "      <th>v21</th>\n",
       "      <th>v22</th>\n",
       "      <th>v23</th>\n",
       "      <th>v24</th>\n",
       "      <th>v25</th>\n",
       "      <th>v26</th>\n",
       "      <th>v27</th>\n",
       "      <th>v28</th>\n",
       "      <th>amount</th>\n",
       "    </tr>\n",
       "  </thead>\n",
       "  <tbody>\n",
       "    <tr>\n",
       "      <th>180622</th>\n",
       "      <td>1.979681</td>\n",
       "      <td>-0.474765</td>\n",
       "      <td>-0.590701</td>\n",
       "      <td>0.177380</td>\n",
       "      <td>-0.240664</td>\n",
       "      <td>0.431618</td>\n",
       "      <td>-0.764432</td>\n",
       "      <td>0.208290</td>\n",
       "      <td>1.222522</td>\n",
       "      <td>-0.005470</td>\n",
       "      <td>...</td>\n",
       "      <td>-0.157936</td>\n",
       "      <td>0.205647</td>\n",
       "      <td>0.781997</td>\n",
       "      <td>0.075669</td>\n",
       "      <td>0.220107</td>\n",
       "      <td>-0.034573</td>\n",
       "      <td>-0.233996</td>\n",
       "      <td>0.032740</td>\n",
       "      <td>-0.044631</td>\n",
       "      <td>9.99</td>\n",
       "    </tr>\n",
       "    <tr>\n",
       "      <th>55978</th>\n",
       "      <td>0.964175</td>\n",
       "      <td>-1.052088</td>\n",
       "      <td>-0.017591</td>\n",
       "      <td>-0.492805</td>\n",
       "      <td>-1.165913</td>\n",
       "      <td>-1.021734</td>\n",
       "      <td>0.003150</td>\n",
       "      <td>-0.192763</td>\n",
       "      <td>-1.259083</td>\n",
       "      <td>0.778697</td>\n",
       "      <td>...</td>\n",
       "      <td>-0.133142</td>\n",
       "      <td>-0.630779</td>\n",
       "      <td>-1.947002</td>\n",
       "      <td>0.138484</td>\n",
       "      <td>0.481624</td>\n",
       "      <td>-0.177094</td>\n",
       "      <td>0.576203</td>\n",
       "      <td>-0.123411</td>\n",
       "      <td>0.033147</td>\n",
       "      <td>209.00</td>\n",
       "    </tr>\n",
       "    <tr>\n",
       "      <th>262061</th>\n",
       "      <td>-0.867775</td>\n",
       "      <td>0.546923</td>\n",
       "      <td>0.245089</td>\n",
       "      <td>-0.903494</td>\n",
       "      <td>2.815045</td>\n",
       "      <td>4.141723</td>\n",
       "      <td>0.438113</td>\n",
       "      <td>1.061168</td>\n",
       "      <td>-0.596154</td>\n",
       "      <td>-0.837835</td>\n",
       "      <td>...</td>\n",
       "      <td>0.100236</td>\n",
       "      <td>0.081071</td>\n",
       "      <td>0.033550</td>\n",
       "      <td>-0.292623</td>\n",
       "      <td>0.670734</td>\n",
       "      <td>0.861808</td>\n",
       "      <td>-0.515053</td>\n",
       "      <td>0.056489</td>\n",
       "      <td>0.061340</td>\n",
       "      <td>65.00</td>\n",
       "    </tr>\n",
       "    <tr>\n",
       "      <th>191188</th>\n",
       "      <td>0.786440</td>\n",
       "      <td>0.627927</td>\n",
       "      <td>0.189040</td>\n",
       "      <td>0.972690</td>\n",
       "      <td>0.604452</td>\n",
       "      <td>-0.588146</td>\n",
       "      <td>1.478182</td>\n",
       "      <td>-1.433454</td>\n",
       "      <td>0.350121</td>\n",
       "      <td>1.595765</td>\n",
       "      <td>...</td>\n",
       "      <td>0.418000</td>\n",
       "      <td>0.265309</td>\n",
       "      <td>1.655252</td>\n",
       "      <td>-0.402629</td>\n",
       "      <td>0.216880</td>\n",
       "      <td>-0.306025</td>\n",
       "      <td>1.210782</td>\n",
       "      <td>-1.207652</td>\n",
       "      <td>-0.967302</td>\n",
       "      <td>24.84</td>\n",
       "    </tr>\n",
       "    <tr>\n",
       "      <th>268272</th>\n",
       "      <td>1.933397</td>\n",
       "      <td>-0.260520</td>\n",
       "      <td>-0.473325</td>\n",
       "      <td>1.512736</td>\n",
       "      <td>-0.322205</td>\n",
       "      <td>-0.080908</td>\n",
       "      <td>-0.312499</td>\n",
       "      <td>0.071308</td>\n",
       "      <td>1.361587</td>\n",
       "      <td>0.009141</td>\n",
       "      <td>...</td>\n",
       "      <td>-0.334131</td>\n",
       "      <td>-0.551011</td>\n",
       "      <td>-1.349955</td>\n",
       "      <td>0.398574</td>\n",
       "      <td>-0.531820</td>\n",
       "      <td>-0.319016</td>\n",
       "      <td>-1.074591</td>\n",
       "      <td>0.048692</td>\n",
       "      <td>-0.035306</td>\n",
       "      <td>17.83</td>\n",
       "    </tr>\n",
       "    <tr>\n",
       "      <th>...</th>\n",
       "      <td>...</td>\n",
       "      <td>...</td>\n",
       "      <td>...</td>\n",
       "      <td>...</td>\n",
       "      <td>...</td>\n",
       "      <td>...</td>\n",
       "      <td>...</td>\n",
       "      <td>...</td>\n",
       "      <td>...</td>\n",
       "      <td>...</td>\n",
       "      <td>...</td>\n",
       "      <td>...</td>\n",
       "      <td>...</td>\n",
       "      <td>...</td>\n",
       "      <td>...</td>\n",
       "      <td>...</td>\n",
       "      <td>...</td>\n",
       "      <td>...</td>\n",
       "      <td>...</td>\n",
       "      <td>...</td>\n",
       "      <td>...</td>\n",
       "    </tr>\n",
       "    <tr>\n",
       "      <th>80530</th>\n",
       "      <td>-0.881069</td>\n",
       "      <td>-0.781485</td>\n",
       "      <td>0.080529</td>\n",
       "      <td>-3.451610</td>\n",
       "      <td>0.872340</td>\n",
       "      <td>3.484037</td>\n",
       "      <td>-1.288272</td>\n",
       "      <td>1.374577</td>\n",
       "      <td>-2.441680</td>\n",
       "      <td>0.489493</td>\n",
       "      <td>...</td>\n",
       "      <td>-0.108762</td>\n",
       "      <td>0.127439</td>\n",
       "      <td>0.243141</td>\n",
       "      <td>-0.051868</td>\n",
       "      <td>0.986093</td>\n",
       "      <td>0.221627</td>\n",
       "      <td>-0.184973</td>\n",
       "      <td>-0.021020</td>\n",
       "      <td>0.010340</td>\n",
       "      <td>79.00</td>\n",
       "    </tr>\n",
       "    <tr>\n",
       "      <th>247532</th>\n",
       "      <td>-1.191586</td>\n",
       "      <td>0.254653</td>\n",
       "      <td>1.198377</td>\n",
       "      <td>-2.408086</td>\n",
       "      <td>-0.953886</td>\n",
       "      <td>0.921060</td>\n",
       "      <td>-1.187719</td>\n",
       "      <td>1.059878</td>\n",
       "      <td>0.423681</td>\n",
       "      <td>0.291503</td>\n",
       "      <td>...</td>\n",
       "      <td>0.226456</td>\n",
       "      <td>0.137332</td>\n",
       "      <td>0.592430</td>\n",
       "      <td>-0.157397</td>\n",
       "      <td>0.078194</td>\n",
       "      <td>-0.108729</td>\n",
       "      <td>-0.287664</td>\n",
       "      <td>0.498682</td>\n",
       "      <td>0.264822</td>\n",
       "      <td>2.00</td>\n",
       "    </tr>\n",
       "    <tr>\n",
       "      <th>135761</th>\n",
       "      <td>-1.148252</td>\n",
       "      <td>0.511381</td>\n",
       "      <td>0.891353</td>\n",
       "      <td>-0.434903</td>\n",
       "      <td>0.578820</td>\n",
       "      <td>-0.184769</td>\n",
       "      <td>0.408490</td>\n",
       "      <td>-1.138738</td>\n",
       "      <td>0.805643</td>\n",
       "      <td>0.124250</td>\n",
       "      <td>...</td>\n",
       "      <td>-0.401465</td>\n",
       "      <td>0.373786</td>\n",
       "      <td>-0.689279</td>\n",
       "      <td>0.451708</td>\n",
       "      <td>-0.442165</td>\n",
       "      <td>-1.070208</td>\n",
       "      <td>-0.127763</td>\n",
       "      <td>0.027261</td>\n",
       "      <td>0.088082</td>\n",
       "      <td>19.99</td>\n",
       "    </tr>\n",
       "    <tr>\n",
       "      <th>273792</th>\n",
       "      <td>1.940035</td>\n",
       "      <td>-0.646947</td>\n",
       "      <td>-0.304405</td>\n",
       "      <td>0.281822</td>\n",
       "      <td>-1.024825</td>\n",
       "      <td>-0.710335</td>\n",
       "      <td>-0.678226</td>\n",
       "      <td>-0.014725</td>\n",
       "      <td>1.698491</td>\n",
       "      <td>-0.186593</td>\n",
       "      <td>...</td>\n",
       "      <td>-0.231831</td>\n",
       "      <td>0.182409</td>\n",
       "      <td>0.665687</td>\n",
       "      <td>0.128453</td>\n",
       "      <td>0.058553</td>\n",
       "      <td>-0.221864</td>\n",
       "      <td>0.123801</td>\n",
       "      <td>0.003305</td>\n",
       "      <td>-0.039673</td>\n",
       "      <td>34.95</td>\n",
       "    </tr>\n",
       "    <tr>\n",
       "      <th>107343</th>\n",
       "      <td>-1.885353</td>\n",
       "      <td>-0.148091</td>\n",
       "      <td>0.671590</td>\n",
       "      <td>-1.262493</td>\n",
       "      <td>-2.420723</td>\n",
       "      <td>-0.400083</td>\n",
       "      <td>-1.532033</td>\n",
       "      <td>1.143913</td>\n",
       "      <td>-2.823083</td>\n",
       "      <td>0.570026</td>\n",
       "      <td>...</td>\n",
       "      <td>-0.448185</td>\n",
       "      <td>0.270386</td>\n",
       "      <td>0.698535</td>\n",
       "      <td>-0.071735</td>\n",
       "      <td>0.457876</td>\n",
       "      <td>-0.450757</td>\n",
       "      <td>-0.093429</td>\n",
       "      <td>-0.384341</td>\n",
       "      <td>-0.161409</td>\n",
       "      <td>78.00</td>\n",
       "    </tr>\n",
       "  </tbody>\n",
       "</table>\n",
       "<p>227845 rows × 29 columns</p>\n",
       "</div>"
      ],
      "text/plain": [
       "              v1        v2        v3        v4        v5        v6        v7  \\\n",
       "180622  1.979681 -0.474765 -0.590701  0.177380 -0.240664  0.431618 -0.764432   \n",
       "55978   0.964175 -1.052088 -0.017591 -0.492805 -1.165913 -1.021734  0.003150   \n",
       "262061 -0.867775  0.546923  0.245089 -0.903494  2.815045  4.141723  0.438113   \n",
       "191188  0.786440  0.627927  0.189040  0.972690  0.604452 -0.588146  1.478182   \n",
       "268272  1.933397 -0.260520 -0.473325  1.512736 -0.322205 -0.080908 -0.312499   \n",
       "...          ...       ...       ...       ...       ...       ...       ...   \n",
       "80530  -0.881069 -0.781485  0.080529 -3.451610  0.872340  3.484037 -1.288272   \n",
       "247532 -1.191586  0.254653  1.198377 -2.408086 -0.953886  0.921060 -1.187719   \n",
       "135761 -1.148252  0.511381  0.891353 -0.434903  0.578820 -0.184769  0.408490   \n",
       "273792  1.940035 -0.646947 -0.304405  0.281822 -1.024825 -0.710335 -0.678226   \n",
       "107343 -1.885353 -0.148091  0.671590 -1.262493 -2.420723 -0.400083 -1.532033   \n",
       "\n",
       "              v8        v9       v10  ...       v20       v21       v22  \\\n",
       "180622  0.208290  1.222522 -0.005470  ... -0.157936  0.205647  0.781997   \n",
       "55978  -0.192763 -1.259083  0.778697  ... -0.133142 -0.630779 -1.947002   \n",
       "262061  1.061168 -0.596154 -0.837835  ...  0.100236  0.081071  0.033550   \n",
       "191188 -1.433454  0.350121  1.595765  ...  0.418000  0.265309  1.655252   \n",
       "268272  0.071308  1.361587  0.009141  ... -0.334131 -0.551011 -1.349955   \n",
       "...          ...       ...       ...  ...       ...       ...       ...   \n",
       "80530   1.374577 -2.441680  0.489493  ... -0.108762  0.127439  0.243141   \n",
       "247532  1.059878  0.423681  0.291503  ...  0.226456  0.137332  0.592430   \n",
       "135761 -1.138738  0.805643  0.124250  ... -0.401465  0.373786 -0.689279   \n",
       "273792 -0.014725  1.698491 -0.186593  ... -0.231831  0.182409  0.665687   \n",
       "107343  1.143913 -2.823083  0.570026  ... -0.448185  0.270386  0.698535   \n",
       "\n",
       "             v23       v24       v25       v26       v27       v28  amount  \n",
       "180622  0.075669  0.220107 -0.034573 -0.233996  0.032740 -0.044631    9.99  \n",
       "55978   0.138484  0.481624 -0.177094  0.576203 -0.123411  0.033147  209.00  \n",
       "262061 -0.292623  0.670734  0.861808 -0.515053  0.056489  0.061340   65.00  \n",
       "191188 -0.402629  0.216880 -0.306025  1.210782 -1.207652 -0.967302   24.84  \n",
       "268272  0.398574 -0.531820 -0.319016 -1.074591  0.048692 -0.035306   17.83  \n",
       "...          ...       ...       ...       ...       ...       ...     ...  \n",
       "80530  -0.051868  0.986093  0.221627 -0.184973 -0.021020  0.010340   79.00  \n",
       "247532 -0.157397  0.078194 -0.108729 -0.287664  0.498682  0.264822    2.00  \n",
       "135761  0.451708 -0.442165 -1.070208 -0.127763  0.027261  0.088082   19.99  \n",
       "273792  0.128453  0.058553 -0.221864  0.123801  0.003305 -0.039673   34.95  \n",
       "107343 -0.071735  0.457876 -0.450757 -0.093429 -0.384341 -0.161409   78.00  \n",
       "\n",
       "[227845 rows x 29 columns]"
      ]
     },
     "execution_count": 261,
     "metadata": {},
     "output_type": "execute_result"
    }
   ],
   "source": [
    "x_train"
   ]
  },
  {
   "cell_type": "code",
   "execution_count": 262,
   "id": "1a3ae5a2-1980-41c9-9267-3b750706ad1c",
   "metadata": {},
   "outputs": [
    {
     "data": {
      "text/plain": [
       "(227845,)"
      ]
     },
     "execution_count": 262,
     "metadata": {},
     "output_type": "execute_result"
    }
   ],
   "source": [
    "y_train.shape"
   ]
  },
  {
   "cell_type": "code",
   "execution_count": 263,
   "id": "9275ec0f-4a8b-4e4e-b8e0-af8071dcd587",
   "metadata": {},
   "outputs": [],
   "source": [
    "# from sklearn.preprocessing import StandardScaler\n",
    "\n",
    "# scaler = StandardScaler()"
   ]
  },
  {
   "cell_type": "code",
   "execution_count": 264,
   "id": "6e062bd0-d892-40db-80e9-c87774be8327",
   "metadata": {},
   "outputs": [],
   "source": [
    "# y_train = scaler.fit_transform(pd.DataFrame(y_train))"
   ]
  },
  {
   "cell_type": "code",
   "execution_count": 265,
   "id": "3d984df8-613a-41b5-ac90-ddf842331879",
   "metadata": {},
   "outputs": [],
   "source": [
    "# y_test = scaler.fit_transform(pd.DataFrame(y_test))"
   ]
  },
  {
   "cell_type": "code",
   "execution_count": 266,
   "id": "d4c77534-4ea4-4850-9cfd-03788e7bbc8b",
   "metadata": {},
   "outputs": [],
   "source": [
    "# RobustSclaer은 값을 구할때 평균과 표준편차를 이용하는 것이 아닌, median을 이용하여 계산한다."
   ]
  },
  {
   "cell_type": "code",
   "execution_count": 267,
   "id": "5039581c-2128-49d2-a0eb-a3d4efc2a5b7",
   "metadata": {},
   "outputs": [],
   "source": [
    "from sklearn.preprocessing import RobustScaler\n",
    "\n",
    "scaler = RobustScaler()\n",
    "x_train['amount'] = scaler.fit_transform(pd.DataFrame(x_train['amount']))\n",
    "# x_train['amount'] = scaler.fit_transform(x_train['amount'].values.reshape(1,-1))"
   ]
  },
  {
   "cell_type": "code",
   "execution_count": 268,
   "id": "b54c8449-4d83-4a4a-8d7f-dda90e5da0e4",
   "metadata": {},
   "outputs": [
    {
     "data": {
      "text/html": [
       "<div>\n",
       "<style scoped>\n",
       "    .dataframe tbody tr th:only-of-type {\n",
       "        vertical-align: middle;\n",
       "    }\n",
       "\n",
       "    .dataframe tbody tr th {\n",
       "        vertical-align: top;\n",
       "    }\n",
       "\n",
       "    .dataframe thead th {\n",
       "        text-align: right;\n",
       "    }\n",
       "</style>\n",
       "<table border=\"1\" class=\"dataframe\">\n",
       "  <thead>\n",
       "    <tr style=\"text-align: right;\">\n",
       "      <th></th>\n",
       "      <th>v1</th>\n",
       "      <th>v2</th>\n",
       "      <th>v3</th>\n",
       "      <th>v4</th>\n",
       "      <th>v5</th>\n",
       "      <th>v6</th>\n",
       "      <th>v7</th>\n",
       "      <th>v8</th>\n",
       "      <th>v9</th>\n",
       "      <th>v10</th>\n",
       "      <th>...</th>\n",
       "      <th>v20</th>\n",
       "      <th>v21</th>\n",
       "      <th>v22</th>\n",
       "      <th>v23</th>\n",
       "      <th>v24</th>\n",
       "      <th>v25</th>\n",
       "      <th>v26</th>\n",
       "      <th>v27</th>\n",
       "      <th>v28</th>\n",
       "      <th>amount</th>\n",
       "    </tr>\n",
       "  </thead>\n",
       "  <tbody>\n",
       "    <tr>\n",
       "      <th>180622</th>\n",
       "      <td>1.979681</td>\n",
       "      <td>-0.474765</td>\n",
       "      <td>-0.590701</td>\n",
       "      <td>0.177380</td>\n",
       "      <td>-0.240664</td>\n",
       "      <td>0.431618</td>\n",
       "      <td>-0.764432</td>\n",
       "      <td>0.208290</td>\n",
       "      <td>1.222522</td>\n",
       "      <td>-0.005470</td>\n",
       "      <td>...</td>\n",
       "      <td>-0.157936</td>\n",
       "      <td>0.205647</td>\n",
       "      <td>0.781997</td>\n",
       "      <td>0.075669</td>\n",
       "      <td>0.220107</td>\n",
       "      <td>-0.034573</td>\n",
       "      <td>-0.233996</td>\n",
       "      <td>0.032740</td>\n",
       "      <td>-0.044631</td>\n",
       "      <td>-0.167903</td>\n",
       "    </tr>\n",
       "    <tr>\n",
       "      <th>55978</th>\n",
       "      <td>0.964175</td>\n",
       "      <td>-1.052088</td>\n",
       "      <td>-0.017591</td>\n",
       "      <td>-0.492805</td>\n",
       "      <td>-1.165913</td>\n",
       "      <td>-1.021734</td>\n",
       "      <td>0.003150</td>\n",
       "      <td>-0.192763</td>\n",
       "      <td>-1.259083</td>\n",
       "      <td>0.778697</td>\n",
       "      <td>...</td>\n",
       "      <td>-0.133142</td>\n",
       "      <td>-0.630779</td>\n",
       "      <td>-1.947002</td>\n",
       "      <td>0.138484</td>\n",
       "      <td>0.481624</td>\n",
       "      <td>-0.177094</td>\n",
       "      <td>0.576203</td>\n",
       "      <td>-0.123411</td>\n",
       "      <td>0.033147</td>\n",
       "      <td>2.616622</td>\n",
       "    </tr>\n",
       "    <tr>\n",
       "      <th>262061</th>\n",
       "      <td>-0.867775</td>\n",
       "      <td>0.546923</td>\n",
       "      <td>0.245089</td>\n",
       "      <td>-0.903494</td>\n",
       "      <td>2.815045</td>\n",
       "      <td>4.141723</td>\n",
       "      <td>0.438113</td>\n",
       "      <td>1.061168</td>\n",
       "      <td>-0.596154</td>\n",
       "      <td>-0.837835</td>\n",
       "      <td>...</td>\n",
       "      <td>0.100236</td>\n",
       "      <td>0.081071</td>\n",
       "      <td>0.033550</td>\n",
       "      <td>-0.292623</td>\n",
       "      <td>0.670734</td>\n",
       "      <td>0.861808</td>\n",
       "      <td>-0.515053</td>\n",
       "      <td>0.056489</td>\n",
       "      <td>0.061340</td>\n",
       "      <td>0.601791</td>\n",
       "    </tr>\n",
       "    <tr>\n",
       "      <th>191188</th>\n",
       "      <td>0.786440</td>\n",
       "      <td>0.627927</td>\n",
       "      <td>0.189040</td>\n",
       "      <td>0.972690</td>\n",
       "      <td>0.604452</td>\n",
       "      <td>-0.588146</td>\n",
       "      <td>1.478182</td>\n",
       "      <td>-1.433454</td>\n",
       "      <td>0.350121</td>\n",
       "      <td>1.595765</td>\n",
       "      <td>...</td>\n",
       "      <td>0.418000</td>\n",
       "      <td>0.265309</td>\n",
       "      <td>1.655252</td>\n",
       "      <td>-0.402629</td>\n",
       "      <td>0.216880</td>\n",
       "      <td>-0.306025</td>\n",
       "      <td>1.210782</td>\n",
       "      <td>-1.207652</td>\n",
       "      <td>-0.967302</td>\n",
       "      <td>0.039877</td>\n",
       "    </tr>\n",
       "    <tr>\n",
       "      <th>268272</th>\n",
       "      <td>1.933397</td>\n",
       "      <td>-0.260520</td>\n",
       "      <td>-0.473325</td>\n",
       "      <td>1.512736</td>\n",
       "      <td>-0.322205</td>\n",
       "      <td>-0.080908</td>\n",
       "      <td>-0.312499</td>\n",
       "      <td>0.071308</td>\n",
       "      <td>1.361587</td>\n",
       "      <td>0.009141</td>\n",
       "      <td>...</td>\n",
       "      <td>-0.334131</td>\n",
       "      <td>-0.551011</td>\n",
       "      <td>-1.349955</td>\n",
       "      <td>0.398574</td>\n",
       "      <td>-0.531820</td>\n",
       "      <td>-0.319016</td>\n",
       "      <td>-1.074591</td>\n",
       "      <td>0.048692</td>\n",
       "      <td>-0.035306</td>\n",
       "      <td>-0.058206</td>\n",
       "    </tr>\n",
       "    <tr>\n",
       "      <th>...</th>\n",
       "      <td>...</td>\n",
       "      <td>...</td>\n",
       "      <td>...</td>\n",
       "      <td>...</td>\n",
       "      <td>...</td>\n",
       "      <td>...</td>\n",
       "      <td>...</td>\n",
       "      <td>...</td>\n",
       "      <td>...</td>\n",
       "      <td>...</td>\n",
       "      <td>...</td>\n",
       "      <td>...</td>\n",
       "      <td>...</td>\n",
       "      <td>...</td>\n",
       "      <td>...</td>\n",
       "      <td>...</td>\n",
       "      <td>...</td>\n",
       "      <td>...</td>\n",
       "      <td>...</td>\n",
       "      <td>...</td>\n",
       "      <td>...</td>\n",
       "    </tr>\n",
       "    <tr>\n",
       "      <th>80530</th>\n",
       "      <td>-0.881069</td>\n",
       "      <td>-0.781485</td>\n",
       "      <td>0.080529</td>\n",
       "      <td>-3.451610</td>\n",
       "      <td>0.872340</td>\n",
       "      <td>3.484037</td>\n",
       "      <td>-1.288272</td>\n",
       "      <td>1.374577</td>\n",
       "      <td>-2.441680</td>\n",
       "      <td>0.489493</td>\n",
       "      <td>...</td>\n",
       "      <td>-0.108762</td>\n",
       "      <td>0.127439</td>\n",
       "      <td>0.243141</td>\n",
       "      <td>-0.051868</td>\n",
       "      <td>0.986093</td>\n",
       "      <td>0.221627</td>\n",
       "      <td>-0.184973</td>\n",
       "      <td>-0.021020</td>\n",
       "      <td>0.010340</td>\n",
       "      <td>0.797677</td>\n",
       "    </tr>\n",
       "    <tr>\n",
       "      <th>247532</th>\n",
       "      <td>-1.191586</td>\n",
       "      <td>0.254653</td>\n",
       "      <td>1.198377</td>\n",
       "      <td>-2.408086</td>\n",
       "      <td>-0.953886</td>\n",
       "      <td>0.921060</td>\n",
       "      <td>-1.187719</td>\n",
       "      <td>1.059878</td>\n",
       "      <td>0.423681</td>\n",
       "      <td>0.291503</td>\n",
       "      <td>...</td>\n",
       "      <td>0.226456</td>\n",
       "      <td>0.137332</td>\n",
       "      <td>0.592430</td>\n",
       "      <td>-0.157397</td>\n",
       "      <td>0.078194</td>\n",
       "      <td>-0.108729</td>\n",
       "      <td>-0.287664</td>\n",
       "      <td>0.498682</td>\n",
       "      <td>0.264822</td>\n",
       "      <td>-0.279698</td>\n",
       "    </tr>\n",
       "    <tr>\n",
       "      <th>135761</th>\n",
       "      <td>-1.148252</td>\n",
       "      <td>0.511381</td>\n",
       "      <td>0.891353</td>\n",
       "      <td>-0.434903</td>\n",
       "      <td>0.578820</td>\n",
       "      <td>-0.184769</td>\n",
       "      <td>0.408490</td>\n",
       "      <td>-1.138738</td>\n",
       "      <td>0.805643</td>\n",
       "      <td>0.124250</td>\n",
       "      <td>...</td>\n",
       "      <td>-0.401465</td>\n",
       "      <td>0.373786</td>\n",
       "      <td>-0.689279</td>\n",
       "      <td>0.451708</td>\n",
       "      <td>-0.442165</td>\n",
       "      <td>-1.070208</td>\n",
       "      <td>-0.127763</td>\n",
       "      <td>0.027261</td>\n",
       "      <td>0.088082</td>\n",
       "      <td>-0.027984</td>\n",
       "    </tr>\n",
       "    <tr>\n",
       "      <th>273792</th>\n",
       "      <td>1.940035</td>\n",
       "      <td>-0.646947</td>\n",
       "      <td>-0.304405</td>\n",
       "      <td>0.281822</td>\n",
       "      <td>-1.024825</td>\n",
       "      <td>-0.710335</td>\n",
       "      <td>-0.678226</td>\n",
       "      <td>-0.014725</td>\n",
       "      <td>1.698491</td>\n",
       "      <td>-0.186593</td>\n",
       "      <td>...</td>\n",
       "      <td>-0.231831</td>\n",
       "      <td>0.182409</td>\n",
       "      <td>0.665687</td>\n",
       "      <td>0.128453</td>\n",
       "      <td>0.058553</td>\n",
       "      <td>-0.221864</td>\n",
       "      <td>0.123801</td>\n",
       "      <td>0.003305</td>\n",
       "      <td>-0.039673</td>\n",
       "      <td>0.181335</td>\n",
       "    </tr>\n",
       "    <tr>\n",
       "      <th>107343</th>\n",
       "      <td>-1.885353</td>\n",
       "      <td>-0.148091</td>\n",
       "      <td>0.671590</td>\n",
       "      <td>-1.262493</td>\n",
       "      <td>-2.420723</td>\n",
       "      <td>-0.400083</td>\n",
       "      <td>-1.532033</td>\n",
       "      <td>1.143913</td>\n",
       "      <td>-2.823083</td>\n",
       "      <td>0.570026</td>\n",
       "      <td>...</td>\n",
       "      <td>-0.448185</td>\n",
       "      <td>0.270386</td>\n",
       "      <td>0.698535</td>\n",
       "      <td>-0.071735</td>\n",
       "      <td>0.457876</td>\n",
       "      <td>-0.450757</td>\n",
       "      <td>-0.093429</td>\n",
       "      <td>-0.384341</td>\n",
       "      <td>-0.161409</td>\n",
       "      <td>0.783685</td>\n",
       "    </tr>\n",
       "  </tbody>\n",
       "</table>\n",
       "<p>227845 rows × 29 columns</p>\n",
       "</div>"
      ],
      "text/plain": [
       "              v1        v2        v3        v4        v5        v6        v7  \\\n",
       "180622  1.979681 -0.474765 -0.590701  0.177380 -0.240664  0.431618 -0.764432   \n",
       "55978   0.964175 -1.052088 -0.017591 -0.492805 -1.165913 -1.021734  0.003150   \n",
       "262061 -0.867775  0.546923  0.245089 -0.903494  2.815045  4.141723  0.438113   \n",
       "191188  0.786440  0.627927  0.189040  0.972690  0.604452 -0.588146  1.478182   \n",
       "268272  1.933397 -0.260520 -0.473325  1.512736 -0.322205 -0.080908 -0.312499   \n",
       "...          ...       ...       ...       ...       ...       ...       ...   \n",
       "80530  -0.881069 -0.781485  0.080529 -3.451610  0.872340  3.484037 -1.288272   \n",
       "247532 -1.191586  0.254653  1.198377 -2.408086 -0.953886  0.921060 -1.187719   \n",
       "135761 -1.148252  0.511381  0.891353 -0.434903  0.578820 -0.184769  0.408490   \n",
       "273792  1.940035 -0.646947 -0.304405  0.281822 -1.024825 -0.710335 -0.678226   \n",
       "107343 -1.885353 -0.148091  0.671590 -1.262493 -2.420723 -0.400083 -1.532033   \n",
       "\n",
       "              v8        v9       v10  ...       v20       v21       v22  \\\n",
       "180622  0.208290  1.222522 -0.005470  ... -0.157936  0.205647  0.781997   \n",
       "55978  -0.192763 -1.259083  0.778697  ... -0.133142 -0.630779 -1.947002   \n",
       "262061  1.061168 -0.596154 -0.837835  ...  0.100236  0.081071  0.033550   \n",
       "191188 -1.433454  0.350121  1.595765  ...  0.418000  0.265309  1.655252   \n",
       "268272  0.071308  1.361587  0.009141  ... -0.334131 -0.551011 -1.349955   \n",
       "...          ...       ...       ...  ...       ...       ...       ...   \n",
       "80530   1.374577 -2.441680  0.489493  ... -0.108762  0.127439  0.243141   \n",
       "247532  1.059878  0.423681  0.291503  ...  0.226456  0.137332  0.592430   \n",
       "135761 -1.138738  0.805643  0.124250  ... -0.401465  0.373786 -0.689279   \n",
       "273792 -0.014725  1.698491 -0.186593  ... -0.231831  0.182409  0.665687   \n",
       "107343  1.143913 -2.823083  0.570026  ... -0.448185  0.270386  0.698535   \n",
       "\n",
       "             v23       v24       v25       v26       v27       v28    amount  \n",
       "180622  0.075669  0.220107 -0.034573 -0.233996  0.032740 -0.044631 -0.167903  \n",
       "55978   0.138484  0.481624 -0.177094  0.576203 -0.123411  0.033147  2.616622  \n",
       "262061 -0.292623  0.670734  0.861808 -0.515053  0.056489  0.061340  0.601791  \n",
       "191188 -0.402629  0.216880 -0.306025  1.210782 -1.207652 -0.967302  0.039877  \n",
       "268272  0.398574 -0.531820 -0.319016 -1.074591  0.048692 -0.035306 -0.058206  \n",
       "...          ...       ...       ...       ...       ...       ...       ...  \n",
       "80530  -0.051868  0.986093  0.221627 -0.184973 -0.021020  0.010340  0.797677  \n",
       "247532 -0.157397  0.078194 -0.108729 -0.287664  0.498682  0.264822 -0.279698  \n",
       "135761  0.451708 -0.442165 -1.070208 -0.127763  0.027261  0.088082 -0.027984  \n",
       "273792  0.128453  0.058553 -0.221864  0.123801  0.003305 -0.039673  0.181335  \n",
       "107343 -0.071735  0.457876 -0.450757 -0.093429 -0.384341 -0.161409  0.783685  \n",
       "\n",
       "[227845 rows x 29 columns]"
      ]
     },
     "execution_count": 268,
     "metadata": {},
     "output_type": "execute_result"
    }
   ],
   "source": [
    "x_train"
   ]
  },
  {
   "cell_type": "code",
   "execution_count": 269,
   "id": "32c84355-6114-41f7-bcb0-f61815a5f300",
   "metadata": {},
   "outputs": [],
   "source": [
    "# !pip install imbalanced-learn"
   ]
  },
  {
   "cell_type": "code",
   "execution_count": 270,
   "id": "ffc715b4-da9f-445b-877d-ad7388d7c445",
   "metadata": {},
   "outputs": [],
   "source": [
    "from imblearn.over_sampling import SMOTE\n",
    "\n",
    "smote = SMOTE(k_neighbors=5)\n",
    "x_train_o, y_train_o = smote.fit_resample(x_train, y_train)"
   ]
  },
  {
   "cell_type": "code",
   "execution_count": 271,
   "id": "6d26f647-5200-4bf8-b1bf-bfea1ed5768c",
   "metadata": {},
   "outputs": [
    {
     "data": {
      "text/plain": [
       "0    227451\n",
       "1    227451\n",
       "Name: class, dtype: int64"
      ]
     },
     "execution_count": 271,
     "metadata": {},
     "output_type": "execute_result"
    }
   ],
   "source": [
    "y_train_o.value_counts()"
   ]
  },
  {
   "cell_type": "markdown",
   "id": "b847e78d-6840-4676-a8c5-0c5759f943fc",
   "metadata": {},
   "source": [
    "### 학습 xgboost"
   ]
  },
  {
   "cell_type": "code",
   "execution_count": 272,
   "id": "a9e9c2c3-e1a7-497a-9b2b-8f742bbb7426",
   "metadata": {},
   "outputs": [],
   "source": [
    "# !pip install xgboost --user"
   ]
  },
  {
   "cell_type": "code",
   "execution_count": 273,
   "id": "8687ac14-33c8-450e-b5cf-5aed3a76e15f",
   "metadata": {},
   "outputs": [
    {
     "name": "stdout",
     "output_type": "stream",
     "text": [
      "CPU times: total: 13min 24s\n",
      "Wall time: 51 s\n"
     ]
    },
    {
     "data": {
      "text/html": [
       "<style>#sk-container-id-7 {color: black;background-color: white;}#sk-container-id-7 pre{padding: 0;}#sk-container-id-7 div.sk-toggleable {background-color: white;}#sk-container-id-7 label.sk-toggleable__label {cursor: pointer;display: block;width: 100%;margin-bottom: 0;padding: 0.3em;box-sizing: border-box;text-align: center;}#sk-container-id-7 label.sk-toggleable__label-arrow:before {content: \"▸\";float: left;margin-right: 0.25em;color: #696969;}#sk-container-id-7 label.sk-toggleable__label-arrow:hover:before {color: black;}#sk-container-id-7 div.sk-estimator:hover label.sk-toggleable__label-arrow:before {color: black;}#sk-container-id-7 div.sk-toggleable__content {max-height: 0;max-width: 0;overflow: hidden;text-align: left;background-color: #f0f8ff;}#sk-container-id-7 div.sk-toggleable__content pre {margin: 0.2em;color: black;border-radius: 0.25em;background-color: #f0f8ff;}#sk-container-id-7 input.sk-toggleable__control:checked~div.sk-toggleable__content {max-height: 200px;max-width: 100%;overflow: auto;}#sk-container-id-7 input.sk-toggleable__control:checked~label.sk-toggleable__label-arrow:before {content: \"▾\";}#sk-container-id-7 div.sk-estimator input.sk-toggleable__control:checked~label.sk-toggleable__label {background-color: #d4ebff;}#sk-container-id-7 div.sk-label input.sk-toggleable__control:checked~label.sk-toggleable__label {background-color: #d4ebff;}#sk-container-id-7 input.sk-hidden--visually {border: 0;clip: rect(1px 1px 1px 1px);clip: rect(1px, 1px, 1px, 1px);height: 1px;margin: -1px;overflow: hidden;padding: 0;position: absolute;width: 1px;}#sk-container-id-7 div.sk-estimator {font-family: monospace;background-color: #f0f8ff;border: 1px dotted black;border-radius: 0.25em;box-sizing: border-box;margin-bottom: 0.5em;}#sk-container-id-7 div.sk-estimator:hover {background-color: #d4ebff;}#sk-container-id-7 div.sk-parallel-item::after {content: \"\";width: 100%;border-bottom: 1px solid gray;flex-grow: 1;}#sk-container-id-7 div.sk-label:hover label.sk-toggleable__label {background-color: #d4ebff;}#sk-container-id-7 div.sk-serial::before {content: \"\";position: absolute;border-left: 1px solid gray;box-sizing: border-box;top: 0;bottom: 0;left: 50%;z-index: 0;}#sk-container-id-7 div.sk-serial {display: flex;flex-direction: column;align-items: center;background-color: white;padding-right: 0.2em;padding-left: 0.2em;position: relative;}#sk-container-id-7 div.sk-item {position: relative;z-index: 1;}#sk-container-id-7 div.sk-parallel {display: flex;align-items: stretch;justify-content: center;background-color: white;position: relative;}#sk-container-id-7 div.sk-item::before, #sk-container-id-7 div.sk-parallel-item::before {content: \"\";position: absolute;border-left: 1px solid gray;box-sizing: border-box;top: 0;bottom: 0;left: 50%;z-index: -1;}#sk-container-id-7 div.sk-parallel-item {display: flex;flex-direction: column;z-index: 1;position: relative;background-color: white;}#sk-container-id-7 div.sk-parallel-item:first-child::after {align-self: flex-end;width: 50%;}#sk-container-id-7 div.sk-parallel-item:last-child::after {align-self: flex-start;width: 50%;}#sk-container-id-7 div.sk-parallel-item:only-child::after {width: 0;}#sk-container-id-7 div.sk-dashed-wrapped {border: 1px dashed gray;margin: 0 0.4em 0.5em 0.4em;box-sizing: border-box;padding-bottom: 0.4em;background-color: white;}#sk-container-id-7 div.sk-label label {font-family: monospace;font-weight: bold;display: inline-block;line-height: 1.2em;}#sk-container-id-7 div.sk-label-container {text-align: center;}#sk-container-id-7 div.sk-container {/* jupyter's `normalize.less` sets `[hidden] { display: none; }` but bootstrap.min.css set `[hidden] { display: none !important; }` so we also need the `!important` here to be able to override the default hidden behavior on the sphinx rendered scikit-learn.org. See: https://github.com/scikit-learn/scikit-learn/issues/21755 */display: inline-block !important;position: relative;}#sk-container-id-7 div.sk-text-repr-fallback {display: none;}</style><div id=\"sk-container-id-7\" class=\"sk-top-container\"><div class=\"sk-text-repr-fallback\"><pre>XGBClassifier(base_score=0.5, booster=&#x27;gbtree&#x27;, callbacks=None,\n",
       "              colsample_bylevel=1, colsample_bynode=1, colsample_bytree=1,\n",
       "              early_stopping_rounds=None, enable_categorical=False,\n",
       "              eval_metric=None, feature_types=None, gamma=0, gpu_id=-1,\n",
       "              grow_policy=&#x27;depthwise&#x27;, importance_type=None,\n",
       "              interaction_constraints=&#x27;&#x27;, learning_rate=0.1, max_bin=256,\n",
       "              max_cat_threshold=64, max_cat_to_onehot=4, max_delta_step=0,\n",
       "              max_depth=4, max_leaves=0, min_child_weight=1, missing=nan,\n",
       "              monotone_constraints=&#x27;()&#x27;, n_estimators=300, n_jobs=0,\n",
       "              num_parallel_tree=1, predictor=&#x27;auto&#x27;, random_state=2022, ...)</pre><b>In a Jupyter environment, please rerun this cell to show the HTML representation or trust the notebook. <br />On GitHub, the HTML representation is unable to render, please try loading this page with nbviewer.org.</b></div><div class=\"sk-container\" hidden><div class=\"sk-item\"><div class=\"sk-estimator sk-toggleable\"><input class=\"sk-toggleable__control sk-hidden--visually\" id=\"sk-estimator-id-7\" type=\"checkbox\" checked><label for=\"sk-estimator-id-7\" class=\"sk-toggleable__label sk-toggleable__label-arrow\">XGBClassifier</label><div class=\"sk-toggleable__content\"><pre>XGBClassifier(base_score=0.5, booster=&#x27;gbtree&#x27;, callbacks=None,\n",
       "              colsample_bylevel=1, colsample_bynode=1, colsample_bytree=1,\n",
       "              early_stopping_rounds=None, enable_categorical=False,\n",
       "              eval_metric=None, feature_types=None, gamma=0, gpu_id=-1,\n",
       "              grow_policy=&#x27;depthwise&#x27;, importance_type=None,\n",
       "              interaction_constraints=&#x27;&#x27;, learning_rate=0.1, max_bin=256,\n",
       "              max_cat_threshold=64, max_cat_to_onehot=4, max_delta_step=0,\n",
       "              max_depth=4, max_leaves=0, min_child_weight=1, missing=nan,\n",
       "              monotone_constraints=&#x27;()&#x27;, n_estimators=300, n_jobs=0,\n",
       "              num_parallel_tree=1, predictor=&#x27;auto&#x27;, random_state=2022, ...)</pre></div></div></div></div></div>"
      ],
      "text/plain": [
       "XGBClassifier(base_score=0.5, booster='gbtree', callbacks=None,\n",
       "              colsample_bylevel=1, colsample_bynode=1, colsample_bytree=1,\n",
       "              early_stopping_rounds=None, enable_categorical=False,\n",
       "              eval_metric=None, feature_types=None, gamma=0, gpu_id=-1,\n",
       "              grow_policy='depthwise', importance_type=None,\n",
       "              interaction_constraints='', learning_rate=0.1, max_bin=256,\n",
       "              max_cat_threshold=64, max_cat_to_onehot=4, max_delta_step=0,\n",
       "              max_depth=4, max_leaves=0, min_child_weight=1, missing=nan,\n",
       "              monotone_constraints='()', n_estimators=300, n_jobs=0,\n",
       "              num_parallel_tree=1, predictor='auto', random_state=2022, ...)"
      ]
     },
     "execution_count": 273,
     "metadata": {},
     "output_type": "execute_result"
    }
   ],
   "source": [
    "%%time\n",
    "\n",
    "from xgboost import XGBClassifier\n",
    "\n",
    "clf = XGBClassifier(n_estimators = 300, max_depth=4,\n",
    "                   learning_rate = 0.1, random_state=2022)\n",
    "clf.fit(x_train_o, y_train_o)"
   ]
  },
  {
   "cell_type": "code",
   "execution_count": 274,
   "id": "99f2a423-47ec-40d7-966c-a8c0397a7300",
   "metadata": {},
   "outputs": [
    {
     "data": {
      "text/plain": [
       "0.9993800862603374"
      ]
     },
     "execution_count": 274,
     "metadata": {},
     "output_type": "execute_result"
    }
   ],
   "source": [
    "clf.score(x_train_o, y_train_o)"
   ]
  },
  {
   "cell_type": "code",
   "execution_count": 275,
   "id": "7179374f-e763-4b7c-8a9c-45ac40da8161",
   "metadata": {},
   "outputs": [],
   "source": [
    "### 테스트"
   ]
  },
  {
   "cell_type": "code",
   "execution_count": 276,
   "id": "e6294d6c-cf42-4f76-9e60-23d131c83109",
   "metadata": {},
   "outputs": [],
   "source": [
    "x_test['amount'] = scaler.transform(pd.DataFrame(x_test['amount']))"
   ]
  },
  {
   "cell_type": "code",
   "execution_count": 277,
   "id": "f8c602c3-02b1-4725-a505-6457f6c12211",
   "metadata": {},
   "outputs": [
    {
     "name": "stdout",
     "output_type": "stream",
     "text": [
      "accuraccy: 0.9981742214107651\n",
      "precision: 0.48314606741573035\n",
      "recall: 0.8775510204081632\n"
     ]
    }
   ],
   "source": [
    "y_pred = clf.predict(x_test)\n",
    "my.print_score(y_test, y_pred)"
   ]
  },
  {
   "cell_type": "code",
   "execution_count": 278,
   "id": "0918e544-b172-417b-974d-25bb3fd36379",
   "metadata": {},
   "outputs": [],
   "source": [
    "from sklearn.metrics import confusion_matrix\n",
    "\n",
    "def plot_confusion_matrix(y_true, y_pred):\n",
    "    cfm = confusion_matrix(y_true, y_pred)\n",
    "    sns.heatmap(cfm, annot = True, cbar = False, fmt='d') # fmt='d'를 쓰면 정수형으로 나타내어줌\n",
    "    plt.xlabel('Predicted Class')\n",
    "    plt.ylabel('True Class')\n",
    "    plt.title('Confusion Matrix')\n",
    "    plt.show()"
   ]
  },
  {
   "cell_type": "code",
   "execution_count": 279,
   "id": "de78bb2b-a5bb-4a73-a47e-0b43bc51972a",
   "metadata": {},
   "outputs": [
    {
     "data": {
      "image/png": "[encoded data removed]",
      "text/plain": [
       "<Figure size 640x480 with 1 Axes>"
      ]
     },
     "metadata": {},
     "output_type": "display_data"
    }
   ],
   "source": [
    "plot_confusion_matrix(y_test, y_pred)"
   ]
  },
  {
   "cell_type": "markdown",
   "id": "ab531d28-8e82-43de-9a5f-8fdfb4513bd1",
   "metadata": {},
   "source": [
    "### lightGBM"
   ]
  },
  {
   "cell_type": "code",
   "execution_count": 280,
   "id": "0a2a4560-d4e0-4c46-a5d4-6bf1f5d94f53",
   "metadata": {},
   "outputs": [],
   "source": [
    "# !pip install lightgbm --user"
   ]
  },
  {
   "cell_type": "code",
   "execution_count": 281,
   "id": "36a4a2b3-72da-47b0-b92d-aa3856e46141",
   "metadata": {},
   "outputs": [
    {
     "name": "stdout",
     "output_type": "stream",
     "text": [
      "CPU times: total: 45.4 s\n",
      "Wall time: 3.13 s\n"
     ]
    },
    {
     "data": {
      "text/html": [
       "<style>#sk-container-id-8 {color: black;background-color: white;}#sk-container-id-8 pre{padding: 0;}#sk-container-id-8 div.sk-toggleable {background-color: white;}#sk-container-id-8 label.sk-toggleable__label {cursor: pointer;display: block;width: 100%;margin-bottom: 0;padding: 0.3em;box-sizing: border-box;text-align: center;}#sk-container-id-8 label.sk-toggleable__label-arrow:before {content: \"▸\";float: left;margin-right: 0.25em;color: #696969;}#sk-container-id-8 label.sk-toggleable__label-arrow:hover:before {color: black;}#sk-container-id-8 div.sk-estimator:hover label.sk-toggleable__label-arrow:before {color: black;}#sk-container-id-8 div.sk-toggleable__content {max-height: 0;max-width: 0;overflow: hidden;text-align: left;background-color: #f0f8ff;}#sk-container-id-8 div.sk-toggleable__content pre {margin: 0.2em;color: black;border-radius: 0.25em;background-color: #f0f8ff;}#sk-container-id-8 input.sk-toggleable__control:checked~div.sk-toggleable__content {max-height: 200px;max-width: 100%;overflow: auto;}#sk-container-id-8 input.sk-toggleable__control:checked~label.sk-toggleable__label-arrow:before {content: \"▾\";}#sk-container-id-8 div.sk-estimator input.sk-toggleable__control:checked~label.sk-toggleable__label {background-color: #d4ebff;}#sk-container-id-8 div.sk-label input.sk-toggleable__control:checked~label.sk-toggleable__label {background-color: #d4ebff;}#sk-container-id-8 input.sk-hidden--visually {border: 0;clip: rect(1px 1px 1px 1px);clip: rect(1px, 1px, 1px, 1px);height: 1px;margin: -1px;overflow: hidden;padding: 0;position: absolute;width: 1px;}#sk-container-id-8 div.sk-estimator {font-family: monospace;background-color: #f0f8ff;border: 1px dotted black;border-radius: 0.25em;box-sizing: border-box;margin-bottom: 0.5em;}#sk-container-id-8 div.sk-estimator:hover {background-color: #d4ebff;}#sk-container-id-8 div.sk-parallel-item::after {content: \"\";width: 100%;border-bottom: 1px solid gray;flex-grow: 1;}#sk-container-id-8 div.sk-label:hover label.sk-toggleable__label {background-color: #d4ebff;}#sk-container-id-8 div.sk-serial::before {content: \"\";position: absolute;border-left: 1px solid gray;box-sizing: border-box;top: 0;bottom: 0;left: 50%;z-index: 0;}#sk-container-id-8 div.sk-serial {display: flex;flex-direction: column;align-items: center;background-color: white;padding-right: 0.2em;padding-left: 0.2em;position: relative;}#sk-container-id-8 div.sk-item {position: relative;z-index: 1;}#sk-container-id-8 div.sk-parallel {display: flex;align-items: stretch;justify-content: center;background-color: white;position: relative;}#sk-container-id-8 div.sk-item::before, #sk-container-id-8 div.sk-parallel-item::before {content: \"\";position: absolute;border-left: 1px solid gray;box-sizing: border-box;top: 0;bottom: 0;left: 50%;z-index: -1;}#sk-container-id-8 div.sk-parallel-item {display: flex;flex-direction: column;z-index: 1;position: relative;background-color: white;}#sk-container-id-8 div.sk-parallel-item:first-child::after {align-self: flex-end;width: 50%;}#sk-container-id-8 div.sk-parallel-item:last-child::after {align-self: flex-start;width: 50%;}#sk-container-id-8 div.sk-parallel-item:only-child::after {width: 0;}#sk-container-id-8 div.sk-dashed-wrapped {border: 1px dashed gray;margin: 0 0.4em 0.5em 0.4em;box-sizing: border-box;padding-bottom: 0.4em;background-color: white;}#sk-container-id-8 div.sk-label label {font-family: monospace;font-weight: bold;display: inline-block;line-height: 1.2em;}#sk-container-id-8 div.sk-label-container {text-align: center;}#sk-container-id-8 div.sk-container {/* jupyter's `normalize.less` sets `[hidden] { display: none; }` but bootstrap.min.css set `[hidden] { display: none !important; }` so we also need the `!important` here to be able to override the default hidden behavior on the sphinx rendered scikit-learn.org. See: https://github.com/scikit-learn/scikit-learn/issues/21755 */display: inline-block !important;position: relative;}#sk-container-id-8 div.sk-text-repr-fallback {display: none;}</style><div id=\"sk-container-id-8\" class=\"sk-top-container\"><div class=\"sk-text-repr-fallback\"><pre>LGBMClassifier(max_depth=4, n_estimators=300, random_state=2022)</pre><b>In a Jupyter environment, please rerun this cell to show the HTML representation or trust the notebook. <br />On GitHub, the HTML representation is unable to render, please try loading this page with nbviewer.org.</b></div><div class=\"sk-container\" hidden><div class=\"sk-item\"><div class=\"sk-estimator sk-toggleable\"><input class=\"sk-toggleable__control sk-hidden--visually\" id=\"sk-estimator-id-8\" type=\"checkbox\" checked><label for=\"sk-estimator-id-8\" class=\"sk-toggleable__label sk-toggleable__label-arrow\">LGBMClassifier</label><div class=\"sk-toggleable__content\"><pre>LGBMClassifier(max_depth=4, n_estimators=300, random_state=2022)</pre></div></div></div></div></div>"
      ],
      "text/plain": [
       "LGBMClassifier(max_depth=4, n_estimators=300, random_state=2022)"
      ]
     },
     "execution_count": 281,
     "metadata": {},
     "output_type": "execute_result"
    }
   ],
   "source": [
    "%%time\n",
    "\n",
    "from lightgbm import LGBMClassifier \n",
    "# lightGBM이 xgboost보다 나중에 나와서, 속도가 훨씬 빠르다.\n",
    "\n",
    "clf = LGBMClassifier(n_estimators=300, max_depth=4, learning_rate=0.1, random_state=2022)\n",
    "clf.fit(x_train_o, y_train_o)"
   ]
  },
  {
   "cell_type": "code",
   "execution_count": 282,
   "id": "9f0b7bd6-7f7e-4ff3-9fcc-2e98e058351e",
   "metadata": {},
   "outputs": [
    {
     "data": {
      "text/plain": [
       "0.9994504310818594"
      ]
     },
     "execution_count": 282,
     "metadata": {},
     "output_type": "execute_result"
    }
   ],
   "source": [
    "clf.score(x_train_o, y_train_o)"
   ]
  },
  {
   "cell_type": "code",
   "execution_count": 283,
   "id": "73d739ed-e632-4fe1-878b-db3b9d52adc3",
   "metadata": {},
   "outputs": [
    {
     "name": "stdout",
     "output_type": "stream",
     "text": [
      "accuraccy: 0.998156665847407\n",
      "precision: 0.48044692737430167\n",
      "recall: 0.8775510204081632\n"
     ]
    }
   ],
   "source": [
    "y_pred = clf.predict(x_test)\n",
    "my.print_score(y_test, y_pred)"
   ]
  },
  {
   "cell_type": "code",
   "execution_count": 284,
   "id": "922192b1-60e2-4a6a-9117-4d65e37b9843",
   "metadata": {},
   "outputs": [],
   "source": [
    "from sklearn.metrics import confusion_matrix\n",
    "\n",
    "def plot_confusion_matrix(y_true, y_pred):\n",
    "    cfm = confusion_matrix(y_true, y_pred)\n",
    "    sns.heatmap(cfm, annot = True, cbar = False, fmt='d') # fmt='d'를 쓰면 정수형으로 나타내어줌\n",
    "    plt.xlabel('Predicted Class')\n",
    "    plt.ylabel('True Class')\n",
    "    plt.title('Confusion Matrix')\n",
    "    plt.show()"
   ]
  },
  {
   "cell_type": "code",
   "execution_count": 285,
   "id": "3f038684-8910-45ea-af5e-9c9d72dc9467",
   "metadata": {},
   "outputs": [
    {
     "data": {
      "image/png": "[encoded data removed]",
      "text/plain": [
       "<Figure size 640x480 with 1 Axes>"
      ]
     },
     "metadata": {},
     "output_type": "display_data"
    }
   ],
   "source": [
    "plot_confusion_matrix(y_test, y_pred)"
   ]
  },
  {
   "cell_type": "markdown",
   "id": "17a222ad-ecd9-4369-b3dd-e57223ff0030",
   "metadata": {},
   "source": [
    "### RandomForest"
   ]
  },
  {
   "cell_type": "code",
   "execution_count": 286,
   "id": "a052790a-bd0c-4f39-9608-317ec5553abb",
   "metadata": {},
   "outputs": [
    {
     "data": {
      "text/html": [
       "<style>#sk-container-id-9 {color: black;background-color: white;}#sk-container-id-9 pre{padding: 0;}#sk-container-id-9 div.sk-toggleable {background-color: white;}#sk-container-id-9 label.sk-toggleable__label {cursor: pointer;display: block;width: 100%;margin-bottom: 0;padding: 0.3em;box-sizing: border-box;text-align: center;}#sk-container-id-9 label.sk-toggleable__label-arrow:before {content: \"▸\";float: left;margin-right: 0.25em;color: #696969;}#sk-container-id-9 label.sk-toggleable__label-arrow:hover:before {color: black;}#sk-container-id-9 div.sk-estimator:hover label.sk-toggleable__label-arrow:before {color: black;}#sk-container-id-9 div.sk-toggleable__content {max-height: 0;max-width: 0;overflow: hidden;text-align: left;background-color: #f0f8ff;}#sk-container-id-9 div.sk-toggleable__content pre {margin: 0.2em;color: black;border-radius: 0.25em;background-color: #f0f8ff;}#sk-container-id-9 input.sk-toggleable__control:checked~div.sk-toggleable__content {max-height: 200px;max-width: 100%;overflow: auto;}#sk-container-id-9 input.sk-toggleable__control:checked~label.sk-toggleable__label-arrow:before {content: \"▾\";}#sk-container-id-9 div.sk-estimator input.sk-toggleable__control:checked~label.sk-toggleable__label {background-color: #d4ebff;}#sk-container-id-9 div.sk-label input.sk-toggleable__control:checked~label.sk-toggleable__label {background-color: #d4ebff;}#sk-container-id-9 input.sk-hidden--visually {border: 0;clip: rect(1px 1px 1px 1px);clip: rect(1px, 1px, 1px, 1px);height: 1px;margin: -1px;overflow: hidden;padding: 0;position: absolute;width: 1px;}#sk-container-id-9 div.sk-estimator {font-family: monospace;background-color: #f0f8ff;border: 1px dotted black;border-radius: 0.25em;box-sizing: border-box;margin-bottom: 0.5em;}#sk-container-id-9 div.sk-estimator:hover {background-color: #d4ebff;}#sk-container-id-9 div.sk-parallel-item::after {content: \"\";width: 100%;border-bottom: 1px solid gray;flex-grow: 1;}#sk-container-id-9 div.sk-label:hover label.sk-toggleable__label {background-color: #d4ebff;}#sk-container-id-9 div.sk-serial::before {content: \"\";position: absolute;border-left: 1px solid gray;box-sizing: border-box;top: 0;bottom: 0;left: 50%;z-index: 0;}#sk-container-id-9 div.sk-serial {display: flex;flex-direction: column;align-items: center;background-color: white;padding-right: 0.2em;padding-left: 0.2em;position: relative;}#sk-container-id-9 div.sk-item {position: relative;z-index: 1;}#sk-container-id-9 div.sk-parallel {display: flex;align-items: stretch;justify-content: center;background-color: white;position: relative;}#sk-container-id-9 div.sk-item::before, #sk-container-id-9 div.sk-parallel-item::before {content: \"\";position: absolute;border-left: 1px solid gray;box-sizing: border-box;top: 0;bottom: 0;left: 50%;z-index: -1;}#sk-container-id-9 div.sk-parallel-item {display: flex;flex-direction: column;z-index: 1;position: relative;background-color: white;}#sk-container-id-9 div.sk-parallel-item:first-child::after {align-self: flex-end;width: 50%;}#sk-container-id-9 div.sk-parallel-item:last-child::after {align-self: flex-start;width: 50%;}#sk-container-id-9 div.sk-parallel-item:only-child::after {width: 0;}#sk-container-id-9 div.sk-dashed-wrapped {border: 1px dashed gray;margin: 0 0.4em 0.5em 0.4em;box-sizing: border-box;padding-bottom: 0.4em;background-color: white;}#sk-container-id-9 div.sk-label label {font-family: monospace;font-weight: bold;display: inline-block;line-height: 1.2em;}#sk-container-id-9 div.sk-label-container {text-align: center;}#sk-container-id-9 div.sk-container {/* jupyter's `normalize.less` sets `[hidden] { display: none; }` but bootstrap.min.css set `[hidden] { display: none !important; }` so we also need the `!important` here to be able to override the default hidden behavior on the sphinx rendered scikit-learn.org. See: https://github.com/scikit-learn/scikit-learn/issues/21755 */display: inline-block !important;position: relative;}#sk-container-id-9 div.sk-text-repr-fallback {display: none;}</style><div id=\"sk-container-id-9\" class=\"sk-top-container\"><div class=\"sk-text-repr-fallback\"><pre>RandomForestClassifier(max_depth=4, n_estimators=30)</pre><b>In a Jupyter environment, please rerun this cell to show the HTML representation or trust the notebook. <br />On GitHub, the HTML representation is unable to render, please try loading this page with nbviewer.org.</b></div><div class=\"sk-container\" hidden><div class=\"sk-item\"><div class=\"sk-estimator sk-toggleable\"><input class=\"sk-toggleable__control sk-hidden--visually\" id=\"sk-estimator-id-9\" type=\"checkbox\" checked><label for=\"sk-estimator-id-9\" class=\"sk-toggleable__label sk-toggleable__label-arrow\">RandomForestClassifier</label><div class=\"sk-toggleable__content\"><pre>RandomForestClassifier(max_depth=4, n_estimators=30)</pre></div></div></div></div></div>"
      ],
      "text/plain": [
       "RandomForestClassifier(max_depth=4, n_estimators=30)"
      ]
     },
     "execution_count": 286,
     "metadata": {},
     "output_type": "execute_result"
    }
   ],
   "source": [
    "from sklearn.ensemble import RandomForestClassifier\n",
    "\n",
    "clf = RandomForestClassifier(n_estimators=30, max_depth=4)\n",
    "clf.fit(x_train_o, y_train_o)"
   ]
  },
  {
   "cell_type": "code",
   "execution_count": null,
   "id": "40fd0928-e60d-4c99-8c15-aa11ecd8e01e",
   "metadata": {},
   "outputs": [],
   "source": [
    "from sklearn.model_selection import GridSearchCV\n",
    "params = {'n_estimators': range(10,30),\n",
    "          'max_depth' : range(14,15),\n",
    "}\n",
    "\n",
    "# clf = RandomForestClassifier(random_state = 2022)\n",
    "\n",
    "gs = GridSearchCV(clf, params, cv=3, verbose=0)\n",
    "gs.fit(x_train_o, y_train_o)"
   ]
  },
  {
   "cell_type": "code",
   "execution_count": null,
   "id": "2e1ac1fe-42b9-4b43-a335-31b2e13c90ed",
   "metadata": {},
   "outputs": [],
   "source": []
  }
 ],
 "metadata": {
  "kernelspec": {
   "display_name": "flyai",
   "language": "python",
   "name": "flyai"
  },
  "language_info": {
   "codemirror_mode": {
    "name": "ipython",
    "version": 3
   },
   "file_extension": ".py",
   "mimetype": "text/x-python",
   "name": "python",
   "nbconvert_exporter": "python",
   "pygments_lexer": "ipython3",
   "version": "3.8.0"
  }
 },
 "nbformat": 4,
 "nbformat_minor": 5
}
