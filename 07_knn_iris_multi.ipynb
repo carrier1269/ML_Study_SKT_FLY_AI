{
 "cells": [
  {
   "cell_type": "markdown",
   "id": "c3735e3f-ecec-42e5-9cfc-5bb6d278f69e",
   "metadata": {},
   "source": [
    "## KNN IRIS 다중분류(multi classfication)\n",
    "---"
   ]
  },
  {
   "cell_type": "code",
   "execution_count": 50,
   "id": "2d94ff4b-c5cd-438e-822c-b518c2644efb",
   "metadata": {
    "tags": []
   },
   "outputs": [],
   "source": [
    "import numpy as np\n",
    "import pandas as pd\n",
    "import matplotlib.pyplot as plt\n",
    "import seaborn as sns\n",
    "import warnings\n",
    "from sklearn.utils import shuffle\n",
    "from sklearn.model_selection import train_test_split\n",
    "from sklearn.neighbors import KNeighborsClassifier\n",
    "from sklearn.metrics import accuracy_score, precision_score, recall_score\n",
    "from sklearn.metrics import confusion_matrix\n",
    "from sklearn.preprocessing import StandardScaler\n",
    "\n",
    "warnings.filterwarnings(action='ignore') "
   ]
  },
  {
   "cell_type": "code",
   "execution_count": 51,
   "id": "1593cbf0-ada1-4dba-9f1d-2837e0fa19e8",
   "metadata": {},
   "outputs": [],
   "source": [
    "def get_iris(mode = None):\n",
    "    iris = pd.read_csv('iris.csv')\n",
    "    \n",
    "    df = iris.drop(['Id'], axis = 1).copy()\n",
    "    \n",
    "    df.columns = ['sepal_length', 'sepal_width', 'petal_length', 'petal_width',\n",
    "       'species']\n",
    "    \n",
    "    if(mode == 'bin'):\n",
    "        df = df.loc[df['species'] != 'Iris-virginica']\n",
    "    \n",
    "    df['species'] = df['species'].map({\n",
    "    'Iris-setosa':0,\n",
    "    'Iris-versicolor':1,\n",
    "    'Iris-virginica':2})\n",
    "    \n",
    "    x = df.iloc[:,:-1] \n",
    "    y = df.iloc[:,-1]\n",
    "    \n",
    "    x, y = shuffle(x, y)\n",
    "    \n",
    "    num = int(len(y)*0.8)\n",
    "# x는 데이터 프레임, y는 시리즈이므로\n",
    "# y의 length값, len(y)를 이용하여 다른 데이터를 끌어와도 사용할 수 있게끔\n",
    "# 변수를 설정하여 num변수를 통해 데이터 값을 설정한다.\n",
    "    \n",
    "    x_train = x.iloc[:num,:]\n",
    "    x_test = x.iloc[num:,:]\n",
    "    y_train = y.iloc[:num]\n",
    "    y_test = y.iloc[num:]\n",
    "    \n",
    "    def scale(x):\n",
    "        mu = x_train[x].mean() # mu 평균\n",
    "        std = x_train[x].std() # std 표준편차\n",
    "        x_train[x] = (x_train[x]-mu)/std\n",
    "        x_test[x] = (x_test[x]-mu)/std\n",
    "# 테스트 데이터로 평균, 표준편차를 내서 test원본 데이터를 따로 정규화하면 \n",
    "# 성능은 좋아지지만, 대회같은곳에서 실격처리 당한다.\n",
    "# 학습 데이터로 평균 표준편차 구한 것을 test원본 데이터도 정규화 할 것.\n",
    "\n",
    "    scale(x.columns)\n",
    "\n",
    "    \n",
    "    return x_train, x_test, y_train, y_test"
   ]
  },
  {
   "cell_type": "code",
   "execution_count": 52,
   "id": "b570d337-852e-4296-9c34-c9e88915c570",
   "metadata": {},
   "outputs": [
    {
     "name": "stdout",
     "output_type": "stream",
     "text": [
      "(120, 4) (30, 4)\n",
      "(120,) (120,)\n"
     ]
    }
   ],
   "source": [
    "x_train, x_test, y_train, y_test = get_iris()\n",
    "\n",
    "print(x_train.shape, x_test.shape)\n",
    "print(y_train.shape, y_train.shape)"
   ]
  },
  {
   "cell_type": "code",
   "execution_count": 53,
   "id": "98772bb3-6f77-45a6-a078-952cfdf73df9",
   "metadata": {},
   "outputs": [],
   "source": [
    "x_train = x_train.values\n",
    "x_test = x_test.values\n",
    "y_train = y_train.values\n",
    "y_test = y_test.values"
   ]
  },
  {
   "cell_type": "markdown",
   "id": "e591285c-843e-479d-945c-f094def133ee",
   "metadata": {},
   "source": [
    "### 학습"
   ]
  },
  {
   "cell_type": "code",
   "execution_count": 54,
   "id": "f038cd3a-1564-401e-9c46-c3e09930e30a",
   "metadata": {},
   "outputs": [],
   "source": [
    "#scaler = StandardScaler()"
   ]
  },
  {
   "cell_type": "code",
   "execution_count": 55,
   "id": "5d46164a-e19b-4fbe-afc8-94e72feb4ea0",
   "metadata": {},
   "outputs": [
    {
     "data": {
      "text/html": [
       "<style>#sk-container-id-4 {color: black;background-color: white;}#sk-container-id-4 pre{padding: 0;}#sk-container-id-4 div.sk-toggleable {background-color: white;}#sk-container-id-4 label.sk-toggleable__label {cursor: pointer;display: block;width: 100%;margin-bottom: 0;padding: 0.3em;box-sizing: border-box;text-align: center;}#sk-container-id-4 label.sk-toggleable__label-arrow:before {content: \"▸\";float: left;margin-right: 0.25em;color: #696969;}#sk-container-id-4 label.sk-toggleable__label-arrow:hover:before {color: black;}#sk-container-id-4 div.sk-estimator:hover label.sk-toggleable__label-arrow:before {color: black;}#sk-container-id-4 div.sk-toggleable__content {max-height: 0;max-width: 0;overflow: hidden;text-align: left;background-color: #f0f8ff;}#sk-container-id-4 div.sk-toggleable__content pre {margin: 0.2em;color: black;border-radius: 0.25em;background-color: #f0f8ff;}#sk-container-id-4 input.sk-toggleable__control:checked~div.sk-toggleable__content {max-height: 200px;max-width: 100%;overflow: auto;}#sk-container-id-4 input.sk-toggleable__control:checked~label.sk-toggleable__label-arrow:before {content: \"▾\";}#sk-container-id-4 div.sk-estimator input.sk-toggleable__control:checked~label.sk-toggleable__label {background-color: #d4ebff;}#sk-container-id-4 div.sk-label input.sk-toggleable__control:checked~label.sk-toggleable__label {background-color: #d4ebff;}#sk-container-id-4 input.sk-hidden--visually {border: 0;clip: rect(1px 1px 1px 1px);clip: rect(1px, 1px, 1px, 1px);height: 1px;margin: -1px;overflow: hidden;padding: 0;position: absolute;width: 1px;}#sk-container-id-4 div.sk-estimator {font-family: monospace;background-color: #f0f8ff;border: 1px dotted black;border-radius: 0.25em;box-sizing: border-box;margin-bottom: 0.5em;}#sk-container-id-4 div.sk-estimator:hover {background-color: #d4ebff;}#sk-container-id-4 div.sk-parallel-item::after {content: \"\";width: 100%;border-bottom: 1px solid gray;flex-grow: 1;}#sk-container-id-4 div.sk-label:hover label.sk-toggleable__label {background-color: #d4ebff;}#sk-container-id-4 div.sk-serial::before {content: \"\";position: absolute;border-left: 1px solid gray;box-sizing: border-box;top: 0;bottom: 0;left: 50%;z-index: 0;}#sk-container-id-4 div.sk-serial {display: flex;flex-direction: column;align-items: center;background-color: white;padding-right: 0.2em;padding-left: 0.2em;position: relative;}#sk-container-id-4 div.sk-item {position: relative;z-index: 1;}#sk-container-id-4 div.sk-parallel {display: flex;align-items: stretch;justify-content: center;background-color: white;position: relative;}#sk-container-id-4 div.sk-item::before, #sk-container-id-4 div.sk-parallel-item::before {content: \"\";position: absolute;border-left: 1px solid gray;box-sizing: border-box;top: 0;bottom: 0;left: 50%;z-index: -1;}#sk-container-id-4 div.sk-parallel-item {display: flex;flex-direction: column;z-index: 1;position: relative;background-color: white;}#sk-container-id-4 div.sk-parallel-item:first-child::after {align-self: flex-end;width: 50%;}#sk-container-id-4 div.sk-parallel-item:last-child::after {align-self: flex-start;width: 50%;}#sk-container-id-4 div.sk-parallel-item:only-child::after {width: 0;}#sk-container-id-4 div.sk-dashed-wrapped {border: 1px dashed gray;margin: 0 0.4em 0.5em 0.4em;box-sizing: border-box;padding-bottom: 0.4em;background-color: white;}#sk-container-id-4 div.sk-label label {font-family: monospace;font-weight: bold;display: inline-block;line-height: 1.2em;}#sk-container-id-4 div.sk-label-container {text-align: center;}#sk-container-id-4 div.sk-container {/* jupyter's `normalize.less` sets `[hidden] { display: none; }` but bootstrap.min.css set `[hidden] { display: none !important; }` so we also need the `!important` here to be able to override the default hidden behavior on the sphinx rendered scikit-learn.org. See: https://github.com/scikit-learn/scikit-learn/issues/21755 */display: inline-block !important;position: relative;}#sk-container-id-4 div.sk-text-repr-fallback {display: none;}</style><div id=\"sk-container-id-4\" class=\"sk-top-container\"><div class=\"sk-text-repr-fallback\"><pre>StandardScaler()</pre><b>In a Jupyter environment, please rerun this cell to show the HTML representation or trust the notebook. <br />On GitHub, the HTML representation is unable to render, please try loading this page with nbviewer.org.</b></div><div class=\"sk-container\" hidden><div class=\"sk-item\"><div class=\"sk-estimator sk-toggleable\"><input class=\"sk-toggleable__control sk-hidden--visually\" id=\"sk-estimator-id-4\" type=\"checkbox\" checked><label for=\"sk-estimator-id-4\" class=\"sk-toggleable__label sk-toggleable__label-arrow\">StandardScaler</label><div class=\"sk-toggleable__content\"><pre>StandardScaler()</pre></div></div></div></div></div>"
      ],
      "text/plain": [
       "StandardScaler()"
      ]
     },
     "execution_count": 55,
     "metadata": {},
     "output_type": "execute_result"
    }
   ],
   "source": [
    "#scaler.fit(x_train)"
   ]
  },
  {
   "cell_type": "code",
   "execution_count": 56,
   "id": "bfe815cb-b1ce-4218-b209-f6b04333e89c",
   "metadata": {},
   "outputs": [],
   "source": [
    "#x_train_s = scaler.transform(x_train)"
   ]
  },
  {
   "cell_type": "code",
   "execution_count": 63,
   "id": "f3e821dc-fe62-41d0-a7d3-9e2345876ba9",
   "metadata": {},
   "outputs": [
    {
     "data": {
      "text/plain": [
       "\"z = []\\n\\nfor i in range(3, 10):\\n    clf = KNeighborsClassifier(n_neighbors=i)\\n    clf.fit(x_train_s, y_train)\\n    s = clf.score(x_train_s, y_train)\\n    z.append(s)\\n    print('꽃의 종류를 맞추는 컴퓨터의 확률은 =',s*100,'%')\""
      ]
     },
     "execution_count": 63,
     "metadata": {},
     "output_type": "execute_result"
    }
   ],
   "source": [
    "'''z = []\n",
    "\n",
    "for i in range(3, 10):\n",
    "    clf = KNeighborsClassifier(n_neighbors=i)\n",
    "    clf.fit(x_train_s, y_train)\n",
    "    s = clf.score(x_train_s, y_train)\n",
    "    z.append(s)\n",
    "    print('꽃의 종류를 맞추는 컴퓨터의 확률은 =',s*100,'%')'''"
   ]
  },
  {
   "cell_type": "code",
   "execution_count": 64,
   "id": "f6e7c96d-edcd-4ca2-b4a9-c5e9f676b42a",
   "metadata": {},
   "outputs": [
    {
     "data": {
      "text/plain": [
       "\"y_pred = clf.predict(x_train_s)\\n\\nfor i in range(3, 10):\\n    clf = KNeighborsClassifier(n_neighbors=i)\\n    clf.fit(x_train_s, y_pred)\\n    s = clf.score(x_train_s, y_pred)\\n    z.append(s)\\n    print('꽃의 종류를 맞추는 컴퓨터의 확률은 =',s*100,'%')\""
      ]
     },
     "execution_count": 64,
     "metadata": {},
     "output_type": "execute_result"
    }
   ],
   "source": [
    "'''y_pred = clf.predict(x_train_s)\n",
    "\n",
    "for i in range(3, 10):\n",
    "    clf = KNeighborsClassifier(n_neighbors=i)\n",
    "    clf.fit(x_train_s, y_pred)\n",
    "    s = clf.score(x_train_s, y_pred)\n",
    "    z.append(s)\n",
    "    print('꽃의 종류를 맞추는 컴퓨터의 확률은 =',s*100,'%')'''"
   ]
  },
  {
   "cell_type": "code",
   "execution_count": 65,
   "id": "f0dd058d-1ba9-486f-b8c6-97d52ad25754",
   "metadata": {},
   "outputs": [],
   "source": [
    "y_pred = clf.predict(x_test)"
   ]
  },
  {
   "cell_type": "code",
   "execution_count": 66,
   "id": "559943db-bec8-42e9-9f4a-14a5368a13b7",
   "metadata": {},
   "outputs": [],
   "source": [
    "y_pred = clf.predict(x_test)\n",
    "\n",
    "def print_score(y_true, y_pred, average = 'binary'):\n",
    "    acc = accuracy_score(y_test, y_pred)\n",
    "    pre = precision_score(y_test, y_pred, average = average)\n",
    "    rec = recall_score(y_test, y_pred, average = average)\n",
    "    print('accuraccy:', acc)\n",
    "    print('precision:', pre)\n",
    "    print('recall:', rec)"
   ]
  },
  {
   "cell_type": "code",
   "execution_count": 67,
   "id": "137f87a8-73a1-4985-8c9e-af97aaaac3bc",
   "metadata": {},
   "outputs": [
    {
     "name": "stdout",
     "output_type": "stream",
     "text": [
      "accuraccy: 0.9333333333333333\n",
      "precision: 0.9363636363636364\n",
      "recall: 0.9363636363636364\n"
     ]
    }
   ],
   "source": [
    "print_score(y_test, y_pred, average = 'macro')"
   ]
  },
  {
   "cell_type": "code",
   "execution_count": null,
   "id": "93108094-20ba-4aa0-a109-ca6b994196df",
   "metadata": {},
   "outputs": [],
   "source": []
  }
 ],
 "metadata": {
  "kernelspec": {
   "display_name": "flyai",
   "language": "python",
   "name": "flyai"
  },
  "language_info": {
   "codemirror_mode": {
    "name": "ipython",
    "version": 3
   },
   "file_extension": ".py",
   "mimetype": "text/x-python",
   "name": "python",
   "nbconvert_exporter": "python",
   "pygments_lexer": "ipython3",
   "version": "3.8.0"
  }
 },
 "nbformat": 4,
 "nbformat_minor": 5
}
