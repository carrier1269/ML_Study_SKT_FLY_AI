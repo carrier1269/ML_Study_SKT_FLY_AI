{
 "cells": [
  {
   "cell_type": "code",
   "execution_count": 1,
   "id": "4808470f-baa2-438c-aa32-4eb90d97f8c5",
   "metadata": {},
   "outputs": [],
   "source": [
    "import human"
   ]
  },
  {
   "cell_type": "code",
   "execution_count": 2,
   "id": "c02877b3-815f-45b3-90f3-ff50effee7c0",
   "metadata": {},
   "outputs": [
    {
     "name": "stdout",
     "output_type": "stream",
     "text": [
      "95.76271186440678 %\n",
      "liner 0.9995757318625371\n",
      "linearSVC 1.0\n",
      "Poly 0.9804836656767076\n",
      "rbf 1.0\n",
      "knn-5 0.9843020789138736\n",
      "Fitting 3 folds for each of 70 candidates, totalling 210 fits\n",
      "최종 결과는  99.0666817933799 % 입니다.\n"
     ]
    }
   ],
   "source": [
    "human.final_test()"
   ]
  },
  {
   "cell_type": "code",
   "execution_count": null,
   "id": "793f34b7-acbb-4ff6-8fac-8512604acc89",
   "metadata": {},
   "outputs": [],
   "source": []
  }
 ],
 "metadata": {
  "kernelspec": {
   "display_name": "Python 3 (ipykernel)",
   "language": "python",
   "name": "python3"
  },
  "language_info": {
   "codemirror_mode": {
    "name": "ipython",
    "version": 3
   },
   "file_extension": ".py",
   "mimetype": "text/x-python",
   "name": "python",
   "nbconvert_exporter": "python",
   "pygments_lexer": "ipython3",
   "version": "3.9.13"
  }
 },
 "nbformat": 4,
 "nbformat_minor": 5
}
