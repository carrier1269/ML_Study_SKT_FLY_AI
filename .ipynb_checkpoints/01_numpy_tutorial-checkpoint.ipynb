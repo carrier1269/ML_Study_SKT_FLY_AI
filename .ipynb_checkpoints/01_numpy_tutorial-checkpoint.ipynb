{
 "cells": [
  {
   "cell_type": "code",
   "execution_count": 2,
   "id": "171708fb-3f79-46db-b308-4bf499803f0f",
   "metadata": {},
   "outputs": [
    {
     "data": {
      "text/plain": [
       "'1.21.0'"
      ]
     },
     "execution_count": 2,
     "metadata": {},
     "output_type": "execute_result"
    }
   ],
   "source": [
    "import numpy as np\n",
    "\n",
    "np.__version__ # underbar는 유명한 라이브러리 사용시 붙임, 외부에서도 사용가능(?)\n",
    "\n",
    "# 라이브러리 사이트를 참조하는 습관을 들이자. example -> numpy.org"
   ]
  },
  {
   "cell_type": "code",
   "execution_count": 3,
   "id": "082d01a2-da14-42d9-827f-de0997c3ed9f",
   "metadata": {},
   "outputs": [
    {
     "name": "stdout",
     "output_type": "stream",
     "text": [
      "<class 'numpy.ndarray'>\n"
     ]
    }
   ],
   "source": [
    "john = [10, 8, 6, 7]\n",
    "x = np.array(john)\n",
    "\n",
    "print(type(x))"
   ]
  },
  {
   "cell_type": "code",
   "execution_count": 4,
   "id": "8f273c60-0d36-4968-b552-d4c91b38f523",
   "metadata": {},
   "outputs": [
    {
     "data": {
      "text/plain": [
       "[11, 9, 7, 8]"
      ]
     },
     "execution_count": 4,
     "metadata": {},
     "output_type": "execute_result"
    }
   ],
   "source": [
    "john = [10, 8, 6, 7]\n",
    "y = []\n",
    "for i in john:\n",
    "    y.append(i+1)\n",
    "y"
   ]
  },
  {
   "cell_type": "code",
   "execution_count": 5,
   "id": "b5da9f61-bae9-43d7-abcb-c7d825ef23f7",
   "metadata": {},
   "outputs": [
    {
     "data": {
      "text/plain": [
       "[11, 9, 7, 8]"
      ]
     },
     "execution_count": 5,
     "metadata": {},
     "output_type": "execute_result"
    }
   ],
   "source": [
    "#리스트 내포\n",
    "\n",
    "y = [i+1 for i in john]\n",
    "y"
   ]
  },
  {
   "cell_type": "code",
   "execution_count": 6,
   "id": "667f8a44-b174-48b2-9fae-fb6a4a6fda46",
   "metadata": {},
   "outputs": [
    {
     "data": {
      "text/plain": [
       "array([10,  8,  6,  7])"
      ]
     },
     "execution_count": 6,
     "metadata": {},
     "output_type": "execute_result"
    }
   ],
   "source": [
    "john = np.array(john)\n",
    "john"
   ]
  },
  {
   "cell_type": "code",
   "execution_count": 7,
   "id": "b272dcde-faf8-412d-b334-1dac2c37dad7",
   "metadata": {},
   "outputs": [
    {
     "data": {
      "text/plain": [
       "array([11,  9,  7,  8])"
      ]
     },
     "execution_count": 7,
     "metadata": {},
     "output_type": "execute_result"
    }
   ],
   "source": [
    "john + 1"
   ]
  },
  {
   "cell_type": "markdown",
   "id": "c2671b70-a010-484b-a7c0-739e8799af97",
   "metadata": {},
   "source": [
    "### 다차원 배열\n",
    "- 넘파이는 다차원배열( ()=tuple (4)=int (4,)=tuple )\n",
    "- 파이썬 리스트"
   ]
  },
  {
   "cell_type": "code",
   "execution_count": 8,
   "id": "32d5a012-3817-4958-aee4-667f2e609e52",
   "metadata": {},
   "outputs": [
    {
     "data": {
      "text/plain": [
       "array([[1, 2, 3, 4],\n",
       "       [5, 6, 7, 8]])"
      ]
     },
     "execution_count": 8,
     "metadata": {},
     "output_type": "execute_result"
    }
   ],
   "source": [
    "score = [[1,2,3,4],\n",
    "         [5,6,7,8]]\n",
    "x = np.array(score)\n",
    "x"
   ]
  },
  {
   "cell_type": "code",
   "execution_count": 9,
   "id": "502c2d61-d8a6-4c4e-943c-654284c64740",
   "metadata": {},
   "outputs": [
    {
     "data": {
      "text/plain": [
       "(2, 4)"
      ]
     },
     "execution_count": 9,
     "metadata": {},
     "output_type": "execute_result"
    }
   ],
   "source": [
    "x.shape"
   ]
  },
  {
   "cell_type": "code",
   "execution_count": 10,
   "id": "de51839c-5030-412f-808f-e7c93bcac927",
   "metadata": {},
   "outputs": [
    {
     "data": {
      "text/plain": [
       "dtype('int32')"
      ]
     },
     "execution_count": 10,
     "metadata": {},
     "output_type": "execute_result"
    }
   ],
   "source": [
    "x.dtype"
   ]
  },
  {
   "cell_type": "code",
   "execution_count": 11,
   "id": "87c8e186-2072-47c4-9430-91cf0b6e0a34",
   "metadata": {},
   "outputs": [
    {
     "data": {
      "text/plain": [
       "[1, 2, 3, 4, 5, 6, 7, 8, 9]"
      ]
     },
     "execution_count": 11,
     "metadata": {},
     "output_type": "execute_result"
    }
   ],
   "source": [
    "list(range(1,10))"
   ]
  },
  {
   "cell_type": "code",
   "execution_count": 12,
   "id": "bf3df664-0ca5-4bd8-9112-335968abbd54",
   "metadata": {},
   "outputs": [
    {
     "data": {
      "text/plain": [
       "(9,)"
      ]
     },
     "execution_count": 12,
     "metadata": {},
     "output_type": "execute_result"
    }
   ],
   "source": [
    "x = np.arange(0, 9)\n",
    "x.shape"
   ]
  },
  {
   "cell_type": "code",
   "execution_count": 13,
   "id": "fa45e967-7ef4-4be6-9e88-bac315bc5b36",
   "metadata": {},
   "outputs": [
    {
     "data": {
      "text/plain": [
       "array([[0, 1, 2],\n",
       "       [3, 4, 5],\n",
       "       [6, 7, 8]])"
      ]
     },
     "execution_count": 13,
     "metadata": {},
     "output_type": "execute_result"
    }
   ],
   "source": [
    "y = x.reshape(3, 3)\n",
    "y"
   ]
  },
  {
   "cell_type": "code",
   "execution_count": 14,
   "id": "4f032b54-ef21-4e90-be32-171ddcfdbcd7",
   "metadata": {},
   "outputs": [
    {
     "data": {
      "text/plain": [
       "array([[[0, 1, 2],\n",
       "        [3, 4, 5],\n",
       "        [6, 7, 8]]])"
      ]
     },
     "execution_count": 14,
     "metadata": {},
     "output_type": "execute_result"
    }
   ],
   "source": [
    "x.reshape(-1, 3, 3)"
   ]
  },
  {
   "cell_type": "code",
   "execution_count": 15,
   "id": "f3322ff7-5c44-4881-ad38-7a7306f64477",
   "metadata": {},
   "outputs": [
    {
     "data": {
      "text/plain": [
       "array([[ 0,  1,  2,  3],\n",
       "       [ 4,  5,  6,  7],\n",
       "       [ 8,  9, 10, 11],\n",
       "       [12, 13, 14, 15]])"
      ]
     },
     "execution_count": 15,
     "metadata": {},
     "output_type": "execute_result"
    }
   ],
   "source": [
    "x = np.arange(0, 16)\n",
    "x = x.reshape(4, 4)\n",
    "x"
   ]
  },
  {
   "cell_type": "code",
   "execution_count": 16,
   "id": "65e0786a-b95b-4d1c-b261-5432537bad34",
   "metadata": {},
   "outputs": [
    {
     "data": {
      "text/plain": [
       "(2, 4, 2)"
      ]
     },
     "execution_count": 16,
     "metadata": {},
     "output_type": "execute_result"
    }
   ],
   "source": [
    "x = x.reshape(2,4,2)\n",
    "x.shape\n",
    "\n",
    "# (2,4,2)라는 배열을 해석할때 뒤의 값부터 읽는다. (3,6,5)라고 하면 최하위 리스트안에 5개의 원소 가 6개 모이고, 그 6개 모인 배열이 3개가 있다라고 해석하면 쉽다."
   ]
  },
  {
   "cell_type": "code",
   "execution_count": 17,
   "id": "fa2fb99d-5b23-4937-b070-126181b9b1e3",
   "metadata": {},
   "outputs": [
    {
     "data": {
      "text/plain": [
       "array([[[ 0,  1],\n",
       "        [ 2,  3],\n",
       "        [ 4,  5],\n",
       "        [ 6,  7]],\n",
       "\n",
       "       [[ 8,  9],\n",
       "        [10, 11],\n",
       "        [12, 13],\n",
       "        [14, 15]]])"
      ]
     },
     "execution_count": 17,
     "metadata": {},
     "output_type": "execute_result"
    }
   ],
   "source": [
    "x"
   ]
  },
  {
   "cell_type": "code",
   "execution_count": 18,
   "id": "c6df5116-fabe-4add-8418-4b7df077ecfd",
   "metadata": {},
   "outputs": [
    {
     "data": {
      "text/plain": [
       "((3,), (3, 1))"
      ]
     },
     "execution_count": 18,
     "metadata": {},
     "output_type": "execute_result"
    }
   ],
   "source": [
    "x = np.array([1,2,3])\n",
    "y = np.array([[1],[2],[3]])\n",
    "\n",
    "x.shape, y.shape"
   ]
  },
  {
   "cell_type": "code",
   "execution_count": 19,
   "id": "da7572d9-a6c8-4050-9a1f-9fba9b12c663",
   "metadata": {},
   "outputs": [
    {
     "data": {
      "text/plain": [
       "array([1, 2, 3])"
      ]
     },
     "execution_count": 19,
     "metadata": {},
     "output_type": "execute_result"
    }
   ],
   "source": [
    "y.reshape(3)"
   ]
  },
  {
   "cell_type": "code",
   "execution_count": 20,
   "id": "657ab631-8aba-49ea-97a0-29082d99ab00",
   "metadata": {},
   "outputs": [
    {
     "data": {
      "text/plain": [
       "array([1, 2, 3])"
      ]
     },
     "execution_count": 20,
     "metadata": {},
     "output_type": "execute_result"
    }
   ],
   "source": [
    "y.reshape(-1) # -1을 적으면 컴퓨터가 알아서 판단함"
   ]
  },
  {
   "cell_type": "code",
   "execution_count": 21,
   "id": "1bf3f9c8-5645-4668-9ee1-802ae84746a3",
   "metadata": {},
   "outputs": [],
   "source": [
    "x = np.arange(0, 16)\n",
    "x = x.reshape(-1, 4, 2)"
   ]
  },
  {
   "cell_type": "markdown",
   "id": "9e33f5ef-87ef-44d6-b3dd-b2e19b383d66",
   "metadata": {},
   "source": [
    "### 슬라이싱, 인덱싱"
   ]
  },
  {
   "cell_type": "code",
   "execution_count": 22,
   "id": "a73b050d-b419-4e3c-b647-0598447fdd27",
   "metadata": {},
   "outputs": [
    {
     "data": {
      "text/plain": [
       "array([[4, 5, 6],\n",
       "       [8, 9, 0]])"
      ]
     },
     "execution_count": 22,
     "metadata": {},
     "output_type": "execute_result"
    }
   ],
   "source": [
    "x = np.array([[4, 5, 6],\n",
    "              [8, 9, 0]])\n",
    "\n",
    "x"
   ]
  },
  {
   "cell_type": "code",
   "execution_count": 23,
   "id": "4e06aa85-8269-4080-9bb8-bba7d86b6218",
   "metadata": {},
   "outputs": [
    {
     "data": {
      "text/plain": [
       "array([5, 6])"
      ]
     },
     "execution_count": 23,
     "metadata": {},
     "output_type": "execute_result"
    }
   ],
   "source": [
    "# fancy indexing\n",
    "x[0,[1,2]]"
   ]
  },
  {
   "cell_type": "code",
   "execution_count": 24,
   "id": "0d660e44-5bd4-4050-bd48-f1dac1cb2e37",
   "metadata": {},
   "outputs": [
    {
     "data": {
      "text/plain": [
       "array([5, 6])"
      ]
     },
     "execution_count": 24,
     "metadata": {},
     "output_type": "execute_result"
    }
   ],
   "source": [
    "x[0,1:]"
   ]
  },
  {
   "cell_type": "code",
   "execution_count": 25,
   "id": "733417dc-31f3-4dc6-a93e-778021dacae5",
   "metadata": {},
   "outputs": [
    {
     "data": {
      "text/plain": [
       "array([2, 5])"
      ]
     },
     "execution_count": 25,
     "metadata": {},
     "output_type": "execute_result"
    }
   ],
   "source": [
    "x = np.array([1, 2, 3, 4, 5])\n",
    "idx = [False, True, False, False, True]\n",
    "x[idx]"
   ]
  },
  {
   "cell_type": "code",
   "execution_count": 26,
   "id": "1365ce1c-7407-4773-a845-0b5463c4effd",
   "metadata": {},
   "outputs": [
    {
     "data": {
      "text/plain": [
       "array([False, False,  True, False, False])"
      ]
     },
     "execution_count": 26,
     "metadata": {},
     "output_type": "execute_result"
    }
   ],
   "source": [
    "x = np.array([1, 5, 7, 3, 6])\n",
    "\n",
    "x > 6 # 파이썬 리스트에는 적용(동작)이 안되고, 넘파이 리스트에서만 동작함"
   ]
  },
  {
   "cell_type": "code",
   "execution_count": 27,
   "id": "fc03a454-87d7-479f-b183-d72322e6fc84",
   "metadata": {},
   "outputs": [
    {
     "data": {
      "text/plain": [
       "array([7])"
      ]
     },
     "execution_count": 27,
     "metadata": {},
     "output_type": "execute_result"
    }
   ],
   "source": [
    "x = np.array([1, 5, 7, 3, 6])\n",
    "\n",
    "idx = x > 6\n",
    "x[idx] # idx는 x > 6에 의해서 boolean 값의 리스트 형태를 나타내므로, x[idx]하면 True를 가진 인덱스 위치의 원래 배열 원소를 나타내줌."
   ]
  },
  {
   "cell_type": "code",
   "execution_count": 28,
   "id": "3a428a62-e760-4f4b-ae09-742177161786",
   "metadata": {},
   "outputs": [
    {
     "data": {
      "text/plain": [
       "21"
      ]
     },
     "execution_count": 28,
     "metadata": {},
     "output_type": "execute_result"
    }
   ],
   "source": [
    "x = np.array([[1, 2, 3],\n",
    "              [4, 5, 6]])\n",
    "np.sum(x) # 요소를 다 더한다"
   ]
  },
  {
   "cell_type": "code",
   "execution_count": 29,
   "id": "30e24565-b28f-4600-9bfe-3df5e41da2dd",
   "metadata": {},
   "outputs": [
    {
     "data": {
      "text/plain": [
       "array([5, 7, 9])"
      ]
     },
     "execution_count": 29,
     "metadata": {},
     "output_type": "execute_result"
    }
   ],
   "source": [
    "x = np.array([[1, 2, 3],\n",
    "              [4, 5, 6]])\n",
    "np.sum(x, axis = 0)"
   ]
  },
  {
   "cell_type": "code",
   "execution_count": 30,
   "id": "8422bfbc-cad0-4585-ada4-52c066a23ccb",
   "metadata": {},
   "outputs": [
    {
     "data": {
      "text/plain": [
       "array([ 6, 15])"
      ]
     },
     "execution_count": 30,
     "metadata": {},
     "output_type": "execute_result"
    }
   ],
   "source": [
    "x = np.array([[1, 2, 3],\n",
    "              [4, 5, 6]])\n",
    "np.sum(x, axis = 1)"
   ]
  },
  {
   "cell_type": "code",
   "execution_count": 31,
   "id": "b9b38816-9dbb-4c47-8c92-744129b85629",
   "metadata": {},
   "outputs": [
    {
     "data": {
      "text/plain": [
       "3.5"
      ]
     },
     "execution_count": 31,
     "metadata": {},
     "output_type": "execute_result"
    }
   ],
   "source": [
    "np.mean(x)"
   ]
  },
  {
   "cell_type": "code",
   "execution_count": 32,
   "id": "295107cc-18d2-4b0e-905b-2027e02c1a85",
   "metadata": {},
   "outputs": [
    {
     "data": {
      "text/plain": [
       "array([2.5, 3.5, 4.5])"
      ]
     },
     "execution_count": 32,
     "metadata": {},
     "output_type": "execute_result"
    }
   ],
   "source": [
    "np.mean(x, axis = 0)"
   ]
  },
  {
   "cell_type": "code",
   "execution_count": 33,
   "id": "8e73d611-92a3-40a6-804f-91569404100f",
   "metadata": {},
   "outputs": [
    {
     "data": {
      "text/plain": [
       "array([2., 5.])"
      ]
     },
     "execution_count": 33,
     "metadata": {},
     "output_type": "execute_result"
    }
   ],
   "source": [
    "np.mean(x, axis = -1) # axis = -1 에서 -1의 의미는 제일 마지막 축의 axis를 가져옴. 넘파이리스트에서 슬라이싱 할 때의 의미와 같음."
   ]
  },
  {
   "cell_type": "code",
   "execution_count": 34,
   "id": "4b79db85-3aed-4d5f-9217-18477c77840b",
   "metadata": {},
   "outputs": [
    {
     "data": {
      "text/plain": [
       "array([1, 2, 3])"
      ]
     },
     "execution_count": 34,
     "metadata": {},
     "output_type": "execute_result"
    }
   ],
   "source": [
    "x = np.array([1, 2, 3])\n",
    "x"
   ]
  },
  {
   "cell_type": "code",
   "execution_count": 35,
   "id": "3c93c47e-a2eb-40b6-890e-95dcfc41f7f3",
   "metadata": {},
   "outputs": [
    {
     "data": {
      "text/plain": [
       "array([2, 3, 4])"
      ]
     },
     "execution_count": 35,
     "metadata": {},
     "output_type": "execute_result"
    }
   ],
   "source": [
    "x + 1 # 넘파이가 브로드캐스팅을 하기 때문에 연산작업을 할때 x + [1, 1, 1]로 자동 확장되어서 계산을 한다."
   ]
  },
  {
   "cell_type": "code",
   "execution_count": 36,
   "id": "94b31ca9-83e1-43ca-9f18-4a421a63cf0f",
   "metadata": {},
   "outputs": [
    {
     "data": {
      "text/plain": [
       "array([2, 3, 4])"
      ]
     },
     "execution_count": 36,
     "metadata": {},
     "output_type": "execute_result"
    }
   ],
   "source": [
    "x + [1, 1, 1] # 2차원 배열의 경우 x + 1 이 아닌 x + np.arange(3) 이런식으로 1차원의 배열을 생성해줘야지 axis값에 맞춰 브로드캐스팅이 가능하다."
   ]
  },
  {
   "cell_type": "code",
   "execution_count": 37,
   "id": "aeaff389-ee9b-48fc-a433-5f9da0d09c29",
   "metadata": {},
   "outputs": [
    {
     "data": {
      "text/plain": [
       "array([[0],\n",
       "       [1],\n",
       "       [2]])"
      ]
     },
     "execution_count": 37,
     "metadata": {},
     "output_type": "execute_result"
    }
   ],
   "source": [
    "x = np.array([[0], [1], [2]])\n",
    "x"
   ]
  },
  {
   "cell_type": "code",
   "execution_count": 38,
   "id": "f0856cbe-0c33-403f-b865-ff2075c705ea",
   "metadata": {},
   "outputs": [
    {
     "data": {
      "text/plain": [
       "array([0, 1, 2])"
      ]
     },
     "execution_count": 38,
     "metadata": {},
     "output_type": "execute_result"
    }
   ],
   "source": [
    "y = np.array([0, 1, 2])\n",
    "y"
   ]
  },
  {
   "cell_type": "code",
   "execution_count": 39,
   "id": "8be7d6c5",
   "metadata": {},
   "outputs": [
    {
     "data": {
      "text/plain": [
       "array([[0, 1, 2],\n",
       "       [1, 2, 3],\n",
       "       [2, 3, 4]])"
      ]
     },
     "execution_count": 39,
     "metadata": {},
     "output_type": "execute_result"
    }
   ],
   "source": [
    "x + y"
   ]
  },
  {
   "cell_type": "code",
   "execution_count": 40,
   "id": "1f2864f9-64dd-4363-ad79-20d9b0493da2",
   "metadata": {},
   "outputs": [
    {
     "data": {
      "text/plain": [
       "array(['1', '2', '3'], dtype='<U11')"
      ]
     },
     "execution_count": 40,
     "metadata": {},
     "output_type": "execute_result"
    }
   ],
   "source": [
    "x = np.array([1, 2, '3']) # 넘파이리스트 초반 설명에서 한가지 타입의 원소들로만 구성 될 수 있다고 했다, 하지만 다른 타입의 원소를 넣으면 통합되버림.\n",
    "x"
   ]
  },
  {
   "cell_type": "code",
   "execution_count": 41,
   "id": "bccdb7be-e489-4953-b3c0-bf7dd2324fb0",
   "metadata": {},
   "outputs": [
    {
     "data": {
      "text/plain": [
       "array([1, 2, 3])"
      ]
     },
     "execution_count": 41,
     "metadata": {},
     "output_type": "execute_result"
    }
   ],
   "source": [
    "x.astype(np.int32) # astype은 원소의 자료형 타입을 변경시켜줌"
   ]
  },
  {
   "cell_type": "markdown",
   "id": "16a87d32-e07b-4e41-b8cd-7496f2b40a7d",
   "metadata": {},
   "source": [
    "### np.random.random()\n",
    "- [0.0, 1.0) 사이의 값을 반환하는 함수 // 1은 반환하지 않음, 0과 1사이의 수 반환 ()안의 수는 배열의 사이즈"
   ]
  },
  {
   "cell_type": "code",
   "execution_count": 42,
   "id": "ddac8da5-4e76-4ee0-bfb6-6e60672751b2",
   "metadata": {},
   "outputs": [
    {
     "data": {
      "text/plain": [
       "array([0.22523983, 0.53491789, 0.48718308])"
      ]
     },
     "execution_count": 42,
     "metadata": {},
     "output_type": "execute_result"
    }
   ],
   "source": [
    "np.random.random(3)"
   ]
  },
  {
   "cell_type": "code",
   "execution_count": 43,
   "id": "78ce3a7e-13dc-4684-9c9f-a87d2f0af6df",
   "metadata": {},
   "outputs": [
    {
     "data": {
      "text/plain": [
       "array([[0.61181826, 0.67992692],\n",
       "       [0.37160278, 0.77309066]])"
      ]
     },
     "execution_count": 43,
     "metadata": {},
     "output_type": "execute_result"
    }
   ],
   "source": [
    "np.random.random((2,2))"
   ]
  },
  {
   "cell_type": "markdown",
   "id": "87272470-e74d-4f4e-8cc3-4f038e902e66",
   "metadata": {},
   "source": [
    "# random(), random_smaple(), rand()"
   ]
  },
  {
   "cell_type": "markdown",
   "id": "be0975f2-9fe9-4046-9be8-8dbb7d948b80",
   "metadata": {},
   "source": [
    "#### 정규분포 추출 randn() / 평균이 0이고 표준편차가 1인 것"
   ]
  },
  {
   "cell_type": "code",
   "execution_count": 44,
   "id": "19b58f87-c020-45ed-9ad1-868dd3a34dfa",
   "metadata": {},
   "outputs": [
    {
     "data": {
      "text/plain": [
       "array([[ 0.15612334, -0.73759641],\n",
       "       [ 0.17557464, -0.68904612],\n",
       "       [ 0.48828322,  1.28044623]])"
      ]
     },
     "execution_count": 44,
     "metadata": {},
     "output_type": "execute_result"
    }
   ],
   "source": [
    "np.random.randn(3, 2)"
   ]
  },
  {
   "cell_type": "markdown",
   "id": "3de56e21-4b8b-4912-b415-a9c2bd900bfb",
   "metadata": {
    "tags": []
   },
   "source": [
    "#### randint() // 괄호안에 숫자는 배열의 사이즈가 아닌 범위, 뒤에 괄호 추가해주면 배열의 사이즈"
   ]
  },
  {
   "cell_type": "code",
   "execution_count": 45,
   "id": "e1c818e1-5e67-442f-a909-eaa2212f4b1d",
   "metadata": {},
   "outputs": [
    {
     "data": {
      "text/plain": [
       "array([[21, 84],\n",
       "       [11, 64],\n",
       "       [10, 22]])"
      ]
     },
     "execution_count": 45,
     "metadata": {},
     "output_type": "execute_result"
    }
   ],
   "source": [
    "np.random.randint(1, 100, (3, 2))"
   ]
  },
  {
   "cell_type": "code",
   "execution_count": 46,
   "id": "1a8c66c7-21aa-4dc9-8541-1f8353e6158f",
   "metadata": {},
   "outputs": [
    {
     "data": {
      "text/plain": [
       "array([-0.0005279 , -0.27490142, -0.13928556])"
      ]
     },
     "execution_count": 46,
     "metadata": {},
     "output_type": "execute_result"
    }
   ],
   "source": [
    "np.random.seed(2022) # 시드를 정해놓으면 랜덤의 값이 고정이 된다.\n",
    "np.random.randn(3)"
   ]
  },
  {
   "cell_type": "markdown",
   "id": "2b303518-fcc4-4da1-85e7-a1c3ddde452d",
   "metadata": {
    "tags": []
   },
   "source": [
    "### 연산"
   ]
  },
  {
   "cell_type": "code",
   "execution_count": 47,
   "id": "b1df0ed7-4334-40c8-94c6-45e9c0f270f7",
   "metadata": {},
   "outputs": [],
   "source": [
    "x = np.array([[1, 2],\n",
    "             [3, 4]])\n",
    "y = np.array([[5, 6],\n",
    "              [7, 8]])"
   ]
  },
  {
   "cell_type": "code",
   "execution_count": 48,
   "id": "884c9df4-769b-4dee-ad78-7f6c7e408145",
   "metadata": {},
   "outputs": [
    {
     "data": {
      "text/plain": [
       "array([[ 6,  8],\n",
       "       [10, 12]])"
      ]
     },
     "execution_count": 48,
     "metadata": {},
     "output_type": "execute_result"
    }
   ],
   "source": [
    "x + y"
   ]
  },
  {
   "cell_type": "code",
   "execution_count": 49,
   "id": "f2aaf2e3-935a-447a-83e8-9599cb9c74ae",
   "metadata": {},
   "outputs": [
    {
     "data": {
      "text/plain": [
       "array([[ 6,  8],\n",
       "       [10, 12]])"
      ]
     },
     "execution_count": 49,
     "metadata": {},
     "output_type": "execute_result"
    }
   ],
   "source": [
    "np.add(x, y)"
   ]
  },
  {
   "cell_type": "code",
   "execution_count": 50,
   "id": "710bf87a-1be0-47c8-84db-c67150b89e01",
   "metadata": {},
   "outputs": [
    {
     "data": {
      "text/plain": [
       "array([[-4, -4],\n",
       "       [-4, -4]])"
      ]
     },
     "execution_count": 50,
     "metadata": {},
     "output_type": "execute_result"
    }
   ],
   "source": [
    "np.subtract(x, y)"
   ]
  },
  {
   "cell_type": "code",
   "execution_count": 51,
   "id": "b4f3b6f9-b2df-4c49-9244-057a80ba2aaa",
   "metadata": {},
   "outputs": [
    {
     "data": {
      "text/plain": [
       "array([[0.2       , 0.33333333],\n",
       "       [0.42857143, 0.5       ]])"
      ]
     },
     "execution_count": 51,
     "metadata": {},
     "output_type": "execute_result"
    }
   ],
   "source": [
    "np.divide(x, y)"
   ]
  },
  {
   "cell_type": "code",
   "execution_count": 52,
   "id": "8a329210-190a-4204-8abd-98f4b81cb8b1",
   "metadata": {},
   "outputs": [
    {
     "data": {
      "text/plain": [
       "array([[ 5, 12],\n",
       "       [21, 32]])"
      ]
     },
     "execution_count": 52,
     "metadata": {},
     "output_type": "execute_result"
    }
   ],
   "source": [
    "x * y"
   ]
  },
  {
   "cell_type": "code",
   "execution_count": 53,
   "id": "9c7312a9-454a-47b1-93eb-45d58559da80",
   "metadata": {},
   "outputs": [
    {
     "data": {
      "text/plain": [
       "array([[ 5, 12],\n",
       "       [21, 32]])"
      ]
     },
     "execution_count": 53,
     "metadata": {},
     "output_type": "execute_result"
    }
   ],
   "source": [
    "np.multiply(x, y)"
   ]
  },
  {
   "cell_type": "code",
   "execution_count": 54,
   "id": "66fa3abe-af3b-4509-a935-4b27a4c2dc79",
   "metadata": {},
   "outputs": [
    {
     "data": {
      "text/plain": [
       "array([[19, 22],\n",
       "       [43, 50]])"
      ]
     },
     "execution_count": 54,
     "metadata": {},
     "output_type": "execute_result"
    }
   ],
   "source": [
    "np.dot(x, y)"
   ]
  },
  {
   "cell_type": "code",
   "execution_count": 55,
   "id": "f889a10f-26a8-4280-a047-e575cf003fff",
   "metadata": {},
   "outputs": [
    {
     "data": {
      "text/plain": [
       "array([[19, 22],\n",
       "       [43, 50]])"
      ]
     },
     "execution_count": 55,
     "metadata": {},
     "output_type": "execute_result"
    }
   ],
   "source": [
    "np.matmul(x, y)"
   ]
  },
  {
   "cell_type": "code",
   "execution_count": 56,
   "id": "9aadfdd5-7edb-4ba3-abfd-d5c105c4e78e",
   "metadata": {},
   "outputs": [
    {
     "data": {
      "text/plain": [
       "array([[19, 22],\n",
       "       [43, 50]])"
      ]
     },
     "execution_count": 56,
     "metadata": {},
     "output_type": "execute_result"
    }
   ],
   "source": [
    "x @ y"
   ]
  },
  {
   "cell_type": "code",
   "execution_count": 57,
   "id": "d74a48fa-0342-4873-941b-2fc4ec50fc72",
   "metadata": {},
   "outputs": [
    {
     "data": {
      "text/plain": [
       "array([[19, 22],\n",
       "       [43, 50]])"
      ]
     },
     "execution_count": 57,
     "metadata": {},
     "output_type": "execute_result"
    }
   ],
   "source": [
    "x = np.array([[1, 2],\n",
    "             [3, 4]])\n",
    "y = np.array([[5, 6],\n",
    "              [7, 8]])\n",
    "np.matmul(x, y)"
   ]
  },
  {
   "cell_type": "code",
   "execution_count": 58,
   "id": "013af045-f570-4562-a948-2d4924ed1a83",
   "metadata": {},
   "outputs": [
    {
     "data": {
      "text/plain": [
       "32"
      ]
     },
     "execution_count": 58,
     "metadata": {},
     "output_type": "execute_result"
    }
   ],
   "source": [
    "x = np.array([1, 2, 3])\n",
    "y = np.array([4, 5, 6])\n",
    "\n",
    "np.matmul(x, y)"
   ]
  },
  {
   "cell_type": "markdown",
   "id": "9e1728d5-fd3b-4396-b07e-2c61ee7a6220",
   "metadata": {
    "tags": []
   },
   "source": [
    "#### np.argmax() / 랜덤숫자들중에 제일 큰 값의 인덱스값을 추출함"
   ]
  },
  {
   "cell_type": "code",
   "execution_count": 59,
   "id": "25a1d7c5-d577-4305-9e93-7f335527473f",
   "metadata": {},
   "outputs": [
    {
     "data": {
      "text/plain": [
       "array([[ 1.98468616,  0.28210933,  0.76080866,  0.30098161,  0.54029727],\n",
       "       [ 0.37349729,  0.37781339, -0.09021319, -2.30594327,  1.14276002],\n",
       "       [-1.53565429, -0.86375202,  1.01654494,  1.03396388, -0.82449223],\n",
       "       [ 0.01890486, -0.38334356, -0.30418547,  0.99729151, -0.12727384],\n",
       "       [-1.4758859 , -1.94090633,  0.83364892, -0.56721789,  1.17448696]])"
      ]
     },
     "execution_count": 59,
     "metadata": {},
     "output_type": "execute_result"
    }
   ],
   "source": [
    "x = np.random.randn(5, 5)\n",
    "x"
   ]
  },
  {
   "cell_type": "code",
   "execution_count": 60,
   "id": "c2e5f34f-378a-44ca-95e3-99d8d2e72081",
   "metadata": {},
   "outputs": [
    {
     "data": {
      "text/plain": [
       "array([0, 4, 3, 3, 4], dtype=int64)"
      ]
     },
     "execution_count": 60,
     "metadata": {},
     "output_type": "execute_result"
    }
   ],
   "source": [
    "np.argmax(x, axis = 1)"
   ]
  },
  {
   "cell_type": "markdown",
   "id": "80b0aea8-65b1-4ccb-829c-760507d1c470",
   "metadata": {
    "tags": []
   },
   "source": [
    "### 저장 savez()"
   ]
  },
  {
   "cell_type": "code",
   "execution_count": 65,
   "id": "bed7c7bc-dcdb-470a-b8de-0edeba3a7295",
   "metadata": {},
   "outputs": [
    {
     "data": {
      "text/plain": [
       "(array([[-0.3846675 ,  0.53886464,  0.5514914 , -0.86851302, -1.58963562],\n",
       "        [-0.2434445 ,  0.33393511,  0.30726737, -0.46923999,  0.37918482],\n",
       "        [ 0.35007712, -0.01956846,  1.08361973,  0.22007858,  1.18097794],\n",
       "        [ 0.4071746 ,  1.23089279, -1.55438882, -0.26656794,  0.71704424],\n",
       "        [-0.79660248,  2.27787355, -1.90006801,  2.04563224,  2.09541019]]),\n",
       " array([[ 0.20423973,  0.53146535,  0.63074353, -0.05236997],\n",
       "        [ 2.12338344, -0.67921091,  1.04558614,  1.24249456],\n",
       "        [-0.75411301, -0.750788  ,  0.79441625,  1.03597297],\n",
       "        [ 1.26702316, -0.75112406,  1.60199884,  1.59390612],\n",
       "        [ 2.62736734,  1.42180655, -0.45508645, -0.06926293]]))"
      ]
     },
     "execution_count": 65,
     "metadata": {},
     "output_type": "execute_result"
    }
   ],
   "source": [
    "x = np.random.randn(5, 5)\n",
    "y = np. random.randn(5, 4)\n",
    "x, y"
   ]
  },
  {
   "cell_type": "markdown",
   "id": "54f06426-bc9b-46a8-9da9-c54c63b26b65",
   "metadata": {
    "tags": []
   },
   "source": [
    "### 파일로 데이터 저장"
   ]
  },
  {
   "cell_type": "code",
   "execution_count": 66,
   "id": "af63f0b8-1391-46ae-80b1-11623a67188e",
   "metadata": {
    "tags": []
   },
   "outputs": [],
   "source": [
    "np.savez('mydata.npz', xvar = x , yvar = y)"
   ]
  },
  {
   "cell_type": "code",
   "execution_count": 67,
   "id": "4a9c1ec6-d2d8-45bf-9c10-c77ba0c7c5bb",
   "metadata": {},
   "outputs": [],
   "source": [
    "### 파일로딩\n",
    "\n",
    "mydata = np.load('mydata.npz')"
   ]
  },
  {
   "cell_type": "code",
   "execution_count": 68,
   "id": "a2933e8c-6c29-4a7b-801f-9b6f3969053f",
   "metadata": {},
   "outputs": [
    {
     "data": {
      "text/plain": [
       "array([[-0.3846675 ,  0.53886464,  0.5514914 , -0.86851302, -1.58963562],\n",
       "       [-0.2434445 ,  0.33393511,  0.30726737, -0.46923999,  0.37918482],\n",
       "       [ 0.35007712, -0.01956846,  1.08361973,  0.22007858,  1.18097794],\n",
       "       [ 0.4071746 ,  1.23089279, -1.55438882, -0.26656794,  0.71704424],\n",
       "       [-0.79660248,  2.27787355, -1.90006801,  2.04563224,  2.09541019]])"
      ]
     },
     "execution_count": 68,
     "metadata": {},
     "output_type": "execute_result"
    }
   ],
   "source": [
    "x = mydata['xvar']\n",
    "x"
   ]
  },
  {
   "cell_type": "code",
   "execution_count": null,
   "id": "c4de3e27-f0ef-4e36-b2c0-74ecf331310d",
   "metadata": {},
   "outputs": [],
   "source": []
  },
  {
   "cell_type": "code",
   "execution_count": null,
   "id": "06c38103-df87-4c3a-82f1-231eb16b58ff",
   "metadata": {},
   "outputs": [],
   "source": []
  }
 ],
 "metadata": {
  "kernelspec": {
   "display_name": "flyai",
   "language": "python",
   "name": "flyai"
  },
  "language_info": {
   "codemirror_mode": {
    "name": "ipython",
    "version": 3
   },
   "file_extension": ".py",
   "mimetype": "text/x-python",
   "name": "python",
   "nbconvert_exporter": "python",
   "pygments_lexer": "ipython3",
   "version": "3.8.0"
  }
 },
 "nbformat": 4,
 "nbformat_minor": 5
}
